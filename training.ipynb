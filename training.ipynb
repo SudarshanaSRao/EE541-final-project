{
 "cells": [
  {
   "cell_type": "markdown",
   "metadata": {},
   "source": [
    "### Load Dependencies"
   ]
  },
  {
   "cell_type": "code",
   "execution_count": null,
   "metadata": {},
   "outputs": [],
   "source": [
    "%pip install opendatasets"
   ]
  },
  {
   "cell_type": "markdown",
   "metadata": {},
   "source": [
    "### Imports"
   ]
  },
  {
   "cell_type": "code",
   "execution_count": 26,
   "metadata": {},
   "outputs": [],
   "source": [
    "import h5py\n",
    "import os\n",
    "import numpy as np\n",
    "import opendatasets as od\n",
    "import torch\n",
    "import torch.nn as nn\n",
    "import torch.nn.functional as F\n",
    "import torchvision\n",
    "from torch.utils.data import Subset\n",
    "from torchvision.transforms import ToTensor\n",
    "from sklearn.model_selection import train_test_split\n",
    "from utils import ProgressBar, plot_metrics"
   ]
  },
  {
   "cell_type": "markdown",
   "metadata": {},
   "source": [
    "### Load Dataset"
   ]
  },
  {
   "cell_type": "code",
   "execution_count": null,
   "metadata": {},
   "outputs": [],
   "source": [
    "# Download Kaggle dataset (Kaggle username and key is required)\n",
    "# {\"username\":\"christopherconroy\",\"key\":\"1915e76943ae798bc236fb7c2de6d28d\"}\n",
    "od.download('https://www.kaggle.com/datasets/grassknoted/asl-alphabet')"
   ]
  },
  {
   "cell_type": "code",
   "execution_count": null,
   "metadata": {},
   "outputs": [],
   "source": [
    "# Constants\n",
    "TEST_DATA_DIR = 'asl-alphabet/asl_alphabet_test/asl_alphabet_test'\n",
    "TRAIN_DATA_DIR = 'asl-alphabet/asl_alphabet_train/asl_alphabet_train'\n",
    "SEED = 0"
   ]
  },
  {
   "cell_type": "code",
   "execution_count": null,
   "metadata": {},
   "outputs": [],
   "source": [
    "# Seed PyTorch\n",
    "torch.manual_seed(SEED)\n",
    "\n",
    "# Initialize dataset\n",
    "dataset = torchvision.datasets.ImageFolder(\n",
    "    root=TRAIN_DATA_DIR,\n",
    "    transform=ToTensor()\n",
    ")\n",
    "num_inputs = np.array(dataset[0][0].numpy().shape).prod()\n",
    "num_outputs = len(dataset.classes)\n",
    "\n",
    "# Check for CUDA GPU\n",
    "device = torch.device('cuda' if torch.cuda.is_available() else 'cpu')\n",
    "print(f'Using {device} device')"
   ]
  },
  {
   "cell_type": "code",
   "execution_count": null,
   "metadata": {},
   "outputs": [],
   "source": [
    "# Get sample dimensions\n",
    "dataset[0][0].size()"
   ]
  },
  {
   "cell_type": "code",
   "execution_count": null,
   "metadata": {},
   "outputs": [],
   "source": [
    "def split_dataset(dataset, num_samples, train_split, batch_size, seed=0):\n",
    "    '''\n",
    "    Create training and test data loaders from the given dataset.\n",
    "\n",
    "    Params:\n",
    "        dataset = PyTorch Dataset instance for full dataset\n",
    "        num_samples = Number of samples to use from the full dataset\n",
    "        train_split = Fraction of train data in train/test split\n",
    "        batch_size Minibatch size for training\n",
    "        seed = Random seed for dataset shuffle and split. Set to None for no seed.\n",
    "\n",
    "    Returns:\n",
    "        train_loader = Dataloader for the training samples\n",
    "        test_loader = Dataloader for the test samples\n",
    "    '''\n",
    "\n",
    "    # Perform stratified split of dataset indicies\n",
    "    train_size = int((num_samples * train_split) // batch_size) * batch_size\n",
    "    test_size = num_samples - train_size\n",
    "    dataset_inds = list(range(len(dataset)))\n",
    "    train_inds, test_inds = train_test_split(dataset_inds, train_size=train_size, \n",
    "            test_size=test_size, random_state=seed, stratify=dataset.targets)\n",
    "\n",
    "    # Create training and test subsets\n",
    "    train_set = Subset(dataset, train_inds)\n",
    "    test_set = Subset(dataset, test_inds)\n",
    "\n",
    "    # Initialize data loader\n",
    "    train_loader = torch.utils.data.DataLoader(train_set, batch_size=batch_size, shuffle=True)\n",
    "    test_loader = torch.utils.data.DataLoader(test_set, batch_size=batch_size, shuffle=False)\n",
    "\n",
    "    return train_loader, test_loader"
   ]
  },
  {
   "cell_type": "markdown",
   "metadata": {},
   "source": [
    "### Training Implementation"
   ]
  },
  {
   "cell_type": "code",
   "execution_count": null,
   "metadata": {},
   "outputs": [],
   "source": [
    "def train(data_loader, model, loss_func, optimizer, conv):\n",
    "    # Initialize parameters\n",
    "    size = len(data_loader.dataset)\n",
    "    num_batches = len(data_loader)\n",
    "    total_loss = 0\n",
    "    correct = 0\n",
    "\n",
    "    # Set mode to training\n",
    "    model.train()\n",
    "\n",
    "    # Initialize progress bar\n",
    "    progress = ProgressBar('Train Progress', len(data_loader))\n",
    "\n",
    "    # Iterate through batches\n",
    "    for images, labels in data_loader: \n",
    "        # Transfer images and labels to GPU\n",
    "        images, labels = images.to(device), labels.to(device)\n",
    "        if not conv:\n",
    "            images = images.view(-1, num_inputs)\n",
    "        \n",
    "        # Forward pass \n",
    "        outputs = model(images)\n",
    "        loss = loss_func(outputs, labels)\n",
    "\n",
    "        # Backpropagation\n",
    "        optimizer.zero_grad()\n",
    "        loss.backward()\n",
    "\n",
    "        # Optimization\n",
    "        optimizer.step()\n",
    "\n",
    "        # Transfer outputs and labels to CPU\n",
    "        outputs, labels = outputs.cpu(), labels.cpu()\n",
    "        \n",
    "        # Compute batch metrics\n",
    "        total_loss += loss.item()\n",
    "        pred = torch.max(outputs, 1)[1]\n",
    "        correct += (pred == labels).sum().numpy()\n",
    "\n",
    "        # Update progress\n",
    "        progress.step()\n",
    "\n",
    "    # Compute metrics for dataset\n",
    "    total_loss /= num_batches\n",
    "    accuracy = (correct / size) * 100\n",
    "\n",
    "    return total_loss, accuracy"
   ]
  },
  {
   "cell_type": "code",
   "execution_count": null,
   "metadata": {},
   "outputs": [],
   "source": [
    "def test(data_loader, model, loss_func, conv):\n",
    "    # Initialize parameters\n",
    "    size = len(data_loader.dataset)\n",
    "    num_batches = len(data_loader)\n",
    "    total_loss = 0\n",
    "    correct = 0\n",
    "\n",
    "    # Set mode to evaluation\n",
    "    model.eval()\n",
    "\n",
    "    # Initialize progress bar\n",
    "    progress = ProgressBar('Valid Progress', len(data_loader))\n",
    "\n",
    "    # Iterate through batches\n",
    "    with torch.no_grad():\n",
    "        for images, labels in data_loader:\n",
    "            # Transfer images and labels to GPU\n",
    "            images, labels = images.to(device), labels.to(device)\n",
    "            if not conv:\n",
    "                images = images.view(-1, num_inputs)\n",
    "\n",
    "            # Forward pass\n",
    "            outputs = model(images)\n",
    "            loss = loss_func(outputs, labels)\n",
    "\n",
    "            # Transfer outputs and labels to CPU\n",
    "            outputs, labels = outputs.cpu(), labels.cpu()\n",
    "\n",
    "            # Compute batch metrics\n",
    "            total_loss += loss.item()\n",
    "            pred = torch.max(outputs, 1)[1]\n",
    "            correct += (pred == labels).sum().numpy()\n",
    "\n",
    "            # Update progress\n",
    "            progress.step()\n",
    "            \n",
    "    # Compute metrics for dataset\n",
    "    total_loss /= num_batches\n",
    "    accuracy = (correct / size) * 100\n",
    "\n",
    "    return total_loss, accuracy"
   ]
  },
  {
   "cell_type": "code",
   "execution_count": null,
   "metadata": {},
   "outputs": [],
   "source": [
    "def train_model(model, train_loader, valid_loader, learning_rate, num_epochs, weight_decay=0, conv=False):\n",
    "    # Initialize training parameters\n",
    "    loss_func = nn.CrossEntropyLoss()\n",
    "    optimizer = torch.optim.Adam(model.parameters(), lr=learning_rate, weight_decay=weight_decay)\n",
    "\n",
    "    # Initialize metrics\n",
    "    train_loss_list = []\n",
    "    test_loss_list = []\n",
    "    train_accuracy_list = []\n",
    "    test_accuracy_list = []\n",
    "\n",
    "    # Train model\n",
    "    for epoch in range(num_epochs):\n",
    "        # Train and evaluate model\n",
    "        train_loss, train_accuracy = train(train_loader, model, loss_func, optimizer, conv)\n",
    "        valid_loss, valid_accuracy = test(valid_loader, model, loss_func, conv)\n",
    "\n",
    "        # Store epoch metrics\n",
    "        train_loss_list.append(train_loss)\n",
    "        train_accuracy_list.append(train_accuracy)\n",
    "        test_loss_list.append(valid_loss)\n",
    "        test_accuracy_list.append(valid_accuracy)\n",
    "\n",
    "        # Output progress\n",
    "        print('Epoch {} | Loss = {:.4f} | Train Accuracy = {:.2f}% | Test Accuracy = {:.2f}%'\n",
    "            .format(epoch + 1, train_loss, train_accuracy, valid_accuracy))\n",
    "\n",
    "    return (train_loss_list, train_accuracy_list), (test_loss_list, test_accuracy_list)"
   ]
  },
  {
   "cell_type": "markdown",
   "metadata": {},
   "source": [
    "### Model #1 - MLP\n",
    "\n",
    "This simple model is used to verify that the supporting data loading, splitting, training and validation functions are working correctly by training the model on a small subset of the data. The model metrics should show distinct decreasing loss and attain a high training accuracy."
   ]
  },
  {
   "cell_type": "code",
   "execution_count": null,
   "metadata": {},
   "outputs": [],
   "source": [
    "class Net1(nn.Module):\n",
    "    def __init__(self):\n",
    "        super(Net1, self).__init__()\n",
    "        self.hidden1 = nn.Linear(num_inputs, 1000)\n",
    "        self.hidden2 = nn.Linear(1000, 200)\n",
    "        self.output = nn.Linear(200, num_outputs)\n",
    "\n",
    "    def forward(self, x):\n",
    "        x = self.hidden1(x)\n",
    "        x = F.relu(x)\n",
    "        x = self.hidden2(x)\n",
    "        x = F.relu(x)\n",
    "        x = self.output(x)\n",
    "        return x\n",
    "\n",
    "model1 = Net1()\n",
    "model1 = model1.to(device)"
   ]
  },
  {
   "cell_type": "code",
   "execution_count": null,
   "metadata": {},
   "outputs": [],
   "source": [
    "train_loader1, valid_loader1 = split_dataset(dataset, 58, 0.5, 29, SEED)\n",
    "train_metrics1, valid_metrics1 = train_model(model1, train_loader1, valid_loader1, 5e-4, 100)"
   ]
  },
  {
   "cell_type": "code",
   "execution_count": null,
   "metadata": {},
   "outputs": [],
   "source": [
    "plot_metrics(train_metrics1, valid_metrics1)"
   ]
  },
  {
   "cell_type": "markdown",
   "metadata": {},
   "source": [
    "### Model #2 - Base CNN\n",
    "\n",
    "This model is a simple CNN used to verify that such an architecture is able to train on the data and provide baseline performance. The architecture is based on the baseline model used in this [paper](https://ieeexplore.ieee.org/document/8392660) but does not make use of dropout layers or any other form of regularization."
   ]
  },
  {
   "cell_type": "code",
   "execution_count": null,
   "metadata": {},
   "outputs": [],
   "source": [
    "class Net2(nn.Module):\n",
    "    def __init__(self):\n",
    "        super().__init__()\n",
    "\n",
    "        # Convolutional layer 1\n",
    "        self.conv1 = nn.Conv2d(3, 32, 5, padding=2)\n",
    "        self.pool1 = nn.MaxPool2d(2, 2)\n",
    "        # self.dropout1 = nn.Dropout2d(0.2)\n",
    "\n",
    "        # Convolutional layer 2\n",
    "        self.conv2 = nn.Conv2d(32, 32, 3, padding=1)\n",
    "        self.pool2 = nn.MaxPool2d(2, 2)\n",
    "        # self.dropout2 = nn.Dropout2d(0.2)\n",
    "\n",
    "        # Fully connected layer 1\n",
    "        self.fc1 = nn.Linear(32 * 50**2, 128)\n",
    "        # self.dropout3 = nn.Dropout2d(0.2)\n",
    "\n",
    "        # Fully connected layer 2\n",
    "        self.fc2 = nn.Linear(128, 64)\n",
    "        # self.dropout4 = nn.Dropout2d(0.2)\n",
    "\n",
    "        # Output layer\n",
    "        self.fc3 = nn.Linear(64, 29)\n",
    "\n",
    "    def forward(self, x):\n",
    "        x = self.pool1(F.relu(self.conv1(x)))\n",
    "        x = self.pool2(F.relu(self.conv2(x)))\n",
    "        x = torch.flatten(x, 1)\n",
    "        x = F.relu(self.fc1(x))\n",
    "        x = F.relu(self.fc2(x))\n",
    "        x = self.fc3(x)\n",
    "        return x\n",
    "\n",
    "\n",
    "model2 = Net2()\n",
    "model2 = model2.to(device)"
   ]
  },
  {
   "cell_type": "code",
   "execution_count": null,
   "metadata": {},
   "outputs": [],
   "source": [
    "from torchsummary import summary\n",
    "summary(model2, input_size=(3, 200, 200))"
   ]
  },
  {
   "cell_type": "code",
   "execution_count": null,
   "metadata": {},
   "outputs": [],
   "source": [
    "train_loader2, valid_loader2 = split_dataset(dataset, 87000, 0.8, 100, SEED)\n",
    "train_metrics2, valid_metrics2 = train_model(model2, train_loader2, valid_loader2, 5e-4, 10, conv=True)"
   ]
  },
  {
   "cell_type": "code",
   "execution_count": 37,
   "metadata": {},
   "outputs": [
    {
     "name": "stdout",
     "output_type": "stream",
     "text": [
      "Final Train Accuracy = 98.70%\n",
      "Final Test Accuracy  = 98.39%\n"
     ]
    },
    {
     "data": {
      "image/png": "[encoded data removed]",
      "text/plain": [
       "<Figure size 700x300 with 2 Axes>"
      ]
     },
     "metadata": {},
     "output_type": "display_data"
    }
   ],
   "source": [
    "plot_metrics(train_metrics2, valid_metrics2)"
   ]
  }
 ],
 "metadata": {
  "kernelspec": {
   "display_name": "Python 3.8.13 ('ee541')",
   "language": "python",
   "name": "python3"
  },
  "language_info": {
   "codemirror_mode": {
    "name": "ipython",
    "version": 3
   },
   "file_extension": ".py",
   "mimetype": "text/x-python",
   "name": "python",
   "nbconvert_exporter": "python",
   "pygments_lexer": "ipython3",
   "version": "3.8.13"
  },
  "orig_nbformat": 4,
  "vscode": {
   "interpreter": {
    "hash": "5c4c54ecf42830e23b91be3e35800f11de85c5f48dbf4f514b6a1ba40b2b37fe"
   }
  }
 },
 "nbformat": 4,
 "nbformat_minor": 2
}
