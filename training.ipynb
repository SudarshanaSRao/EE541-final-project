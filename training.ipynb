{
 "cells": [
  {
   "cell_type": "markdown",
   "metadata": {},
   "source": [
    "### Load Dependencies"
   ]
  },
  {
   "cell_type": "code",
   "execution_count": 1,
   "metadata": {},
   "outputs": [
    {
     "name": "stdout",
     "output_type": "stream",
     "text": [
      "Requirement already satisfied: opendatasets in c:\\users\\user\\anaconda3\\envs\\ee541\\lib\\site-packages (0.1.22)\n",
      "Requirement already satisfied: click in c:\\users\\user\\anaconda3\\envs\\ee541\\lib\\site-packages (from opendatasets) (8.0.4)\n",
      "Requirement already satisfied: tqdm in c:\\users\\user\\anaconda3\\envs\\ee541\\lib\\site-packages (from opendatasets) (4.64.1)\n",
      "Requirement already satisfied: kaggle in c:\\users\\user\\anaconda3\\envs\\ee541\\lib\\site-packages (from opendatasets) (1.5.12)\n",
      "Requirement already satisfied: colorama in c:\\users\\user\\anaconda3\\envs\\ee541\\lib\\site-packages (from click->opendatasets) (0.4.5)\n",
      "Requirement already satisfied: urllib3 in c:\\users\\user\\anaconda3\\envs\\ee541\\lib\\site-packages (from kaggle->opendatasets) (1.26.11)\n",
      "Requirement already satisfied: six>=1.10 in c:\\users\\user\\anaconda3\\envs\\ee541\\lib\\site-packages (from kaggle->opendatasets) (1.16.0)\n",
      "Requirement already satisfied: python-dateutil in c:\\users\\user\\anaconda3\\envs\\ee541\\lib\\site-packages (from kaggle->opendatasets) (2.8.2)\n",
      "Requirement already satisfied: python-slugify in c:\\users\\user\\anaconda3\\envs\\ee541\\lib\\site-packages (from kaggle->opendatasets) (7.0.0)\n",
      "Requirement already satisfied: requests in c:\\users\\user\\anaconda3\\envs\\ee541\\lib\\site-packages (from kaggle->opendatasets) (2.28.1)\n",
      "Requirement already satisfied: certifi in c:\\users\\user\\anaconda3\\envs\\ee541\\lib\\site-packages (from kaggle->opendatasets) (2022.9.24)\n",
      "Requirement already satisfied: text-unidecode>=1.3 in c:\\users\\user\\anaconda3\\envs\\ee541\\lib\\site-packages (from python-slugify->kaggle->opendatasets) (1.3)\n",
      "Requirement already satisfied: charset-normalizer<3,>=2 in c:\\users\\user\\anaconda3\\envs\\ee541\\lib\\site-packages (from requests->kaggle->opendatasets) (2.0.4)\n",
      "Requirement already satisfied: idna<4,>=2.5 in c:\\users\\user\\anaconda3\\envs\\ee541\\lib\\site-packages (from requests->kaggle->opendatasets) (3.3)\n",
      "Note: you may need to restart the kernel to use updated packages.\n"
     ]
    }
   ],
   "source": [
    "%pip install opendatasets"
   ]
  },
  {
   "cell_type": "markdown",
   "metadata": {},
   "source": [
    "### Imports"
   ]
  },
  {
   "cell_type": "code",
   "execution_count": 2,
   "metadata": {},
   "outputs": [],
   "source": [
    "import opendatasets as od\n",
    "import torch\n",
    "import torchvision\n",
    "from torch.utils.data import Subset\n",
    "from torchvision.transforms import ToTensor\n",
    "from sklearn.model_selection import train_test_split"
   ]
  },
  {
   "cell_type": "markdown",
   "metadata": {},
   "source": [
    "### Load Dataset"
   ]
  },
  {
   "cell_type": "code",
   "execution_count": 3,
   "metadata": {},
   "outputs": [
    {
     "name": "stdout",
     "output_type": "stream",
     "text": [
      "Skipping, found downloaded files in \".\\asl-alphabet\" (use force=True to force download)\n"
     ]
    }
   ],
   "source": [
    "# Download Kaggle dataset (Kaggle username and key is required)\n",
    "# {\"username\":\"christopherconroy\",\"key\":\"1915e76943ae798bc236fb7c2de6d28d\"}\n",
    "od.download('https://www.kaggle.com/datasets/grassknoted/asl-alphabet')"
   ]
  },
  {
   "cell_type": "code",
   "execution_count": 4,
   "metadata": {},
   "outputs": [],
   "source": [
    "# Constants\n",
    "TEST_DATA_DIR = 'asl-alphabet/asl_alphabet_test/asl_alphabet_test'\n",
    "TRAIN_DATA_DIR = 'asl-alphabet/asl_alphabet_train/asl_alphabet_train'\n",
    "TRAIN_SPLIT = 0.8  # Fraction of train data in train/valid split"
   ]
  },
  {
   "cell_type": "code",
   "execution_count": 5,
   "metadata": {},
   "outputs": [],
   "source": [
    "# Load dataset\n",
    "dataset = torchvision.datasets.ImageFolder(\n",
    "    root=TRAIN_DATA_DIR,\n",
    "    transform=ToTensor()\n",
    ")\n",
    "\n",
    "# Perform stratified split of dataset indicies\n",
    "dataset_inds = range(0, len(dataset))\n",
    "train_inds, valid_inds = train_test_split(dataset_inds, train_size=TRAIN_SPLIT, stratify=dataset.targets)\n",
    "\n",
    "# Create training and validation subsets\n",
    "train_set = Subset(dataset, train_inds)\n",
    "valid_set = Subset(dataset, valid_inds)"
   ]
  }
 ],
 "metadata": {
  "kernelspec": {
   "display_name": "Python 3.8.13 ('ee541')",
   "language": "python",
   "name": "python3"
  },
  "language_info": {
   "codemirror_mode": {
    "name": "ipython",
    "version": 3
   },
   "file_extension": ".py",
   "mimetype": "text/x-python",
   "name": "python",
   "nbconvert_exporter": "python",
   "pygments_lexer": "ipython3",
   "version": "3.8.13"
  },
  "orig_nbformat": 4,
  "vscode": {
   "interpreter": {
    "hash": "5c4c54ecf42830e23b91be3e35800f11de85c5f48dbf4f514b6a1ba40b2b37fe"
   }
  }
 },
 "nbformat": 4,
 "nbformat_minor": 2
}
