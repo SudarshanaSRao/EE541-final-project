{
  "cells": [
    {
      "cell_type": "markdown",
      "metadata": {
        "id": "xt8vtPRtEhMw"
      },
      "source": [
        "### Load Dependencies"
      ]
    },
    {
      "cell_type": "code",
      "execution_count": 1,
      "metadata": {
        "colab": {
          "base_uri": "https://localhost:8080/"
        },
        "id": "aY45UPJuEhM3",
        "outputId": "5e46f96b-c74c-4627-88a9-e772d05f55dc"
      },
      "outputs": [
        {
          "output_type": "stream",
          "name": "stdout",
          "text": [
            "Looking in indexes: https://pypi.org/simple, https://us-python.pkg.dev/colab-wheels/public/simple/\n",
            "Collecting opendatasets\n",
            "  Downloading opendatasets-0.1.22-py3-none-any.whl (15 kB)\n",
            "Requirement already satisfied: kaggle in /usr/local/lib/python3.7/dist-packages (from opendatasets) (1.5.12)\n",
            "Requirement already satisfied: tqdm in /usr/local/lib/python3.7/dist-packages (from opendatasets) (4.64.1)\n",
            "Requirement already satisfied: click in /usr/local/lib/python3.7/dist-packages (from opendatasets) (7.1.2)\n",
            "Requirement already satisfied: six>=1.10 in /usr/local/lib/python3.7/dist-packages (from kaggle->opendatasets) (1.15.0)\n",
            "Requirement already satisfied: urllib3 in /usr/local/lib/python3.7/dist-packages (from kaggle->opendatasets) (1.24.3)\n",
            "Requirement already satisfied: python-slugify in /usr/local/lib/python3.7/dist-packages (from kaggle->opendatasets) (6.1.2)\n",
            "Requirement already satisfied: requests in /usr/local/lib/python3.7/dist-packages (from kaggle->opendatasets) (2.23.0)\n",
            "Requirement already satisfied: python-dateutil in /usr/local/lib/python3.7/dist-packages (from kaggle->opendatasets) (2.8.2)\n",
            "Requirement already satisfied: certifi in /usr/local/lib/python3.7/dist-packages (from kaggle->opendatasets) (2022.9.24)\n",
            "Requirement already satisfied: text-unidecode>=1.3 in /usr/local/lib/python3.7/dist-packages (from python-slugify->kaggle->opendatasets) (1.3)\n",
            "Requirement already satisfied: chardet<4,>=3.0.2 in /usr/local/lib/python3.7/dist-packages (from requests->kaggle->opendatasets) (3.0.4)\n",
            "Requirement already satisfied: idna<3,>=2.5 in /usr/local/lib/python3.7/dist-packages (from requests->kaggle->opendatasets) (2.10)\n",
            "Installing collected packages: opendatasets\n",
            "Successfully installed opendatasets-0.1.22\n"
          ]
        }
      ],
      "source": [
        "%pip install opendatasets"
      ]
    },
    {
      "cell_type": "markdown",
      "metadata": {
        "id": "nPSn_wX3EhM5"
      },
      "source": [
        "### Imports"
      ]
    },
    {
      "cell_type": "code",
      "execution_count": 2,
      "metadata": {
        "id": "2SUAgSf3EhM5"
      },
      "outputs": [],
      "source": [
        "import os\n",
        "import numpy as np\n",
        "import opendatasets as od\n",
        "import torch\n",
        "import torch.nn as nn\n",
        "import torch.nn.functional as F\n",
        "import torchvision\n",
        "from torch.utils.data import Subset\n",
        "from torchvision.transforms import ToTensor\n",
        "from sklearn.model_selection import train_test_split\n",
        "from utils import ProgressBar, plot_metrics\n",
        "import torchvision.models as models"
      ]
    },
    {
      "cell_type": "markdown",
      "metadata": {
        "id": "5q2zFt90EhM6"
      },
      "source": [
        "### Load Dataset"
      ]
    },
    {
      "cell_type": "code",
      "execution_count": 3,
      "metadata": {
        "colab": {
          "base_uri": "https://localhost:8080/"
        },
        "id": "HYvBiGTzEhM6",
        "outputId": "44b00c97-df83-4f26-bb5f-d8e68af1cc51"
      },
      "outputs": [
        {
          "output_type": "stream",
          "name": "stdout",
          "text": [
            "Please provide your Kaggle credentials to download this dataset. Learn more: http://bit.ly/kaggle-creds\n",
            "Your Kaggle username: christopherconroy\n",
            "Your Kaggle Key: ··········\n",
            "Downloading asl-alphabet.zip to ./asl-alphabet\n"
          ]
        },
        {
          "output_type": "stream",
          "name": "stderr",
          "text": [
            "100%|██████████| 1.03G/1.03G [00:10<00:00, 105MB/s]\n"
          ]
        },
        {
          "output_type": "stream",
          "name": "stdout",
          "text": [
            "\n"
          ]
        }
      ],
      "source": [
        "# Download Kaggle dataset (Kaggle username and key is required)\n",
        "# {\"username\":\"christopherconroy\",\"key\":\"1915e76943ae798bc236fb7c2de6d28d\"}\n",
        "od.download('https://www.kaggle.com/datasets/grassknoted/asl-alphabet')"
      ]
    },
    {
      "cell_type": "code",
      "execution_count": 4,
      "metadata": {
        "id": "DtjxxNkEEhM7"
      },
      "outputs": [],
      "source": [
        "# Constants\n",
        "TEST_DATA_DIR = 'asl-alphabet/asl_alphabet_test/asl_alphabet_test'\n",
        "TRAIN_DATA_DIR = 'asl-alphabet/asl_alphabet_train/asl_alphabet_train'"
      ]
    },
    {
      "cell_type": "code",
      "execution_count": 5,
      "metadata": {
        "colab": {
          "base_uri": "https://localhost:8080/"
        },
        "id": "cDgjOcVmEhM8",
        "outputId": "f25be737-89f7-45d1-91b7-7a142b9a9550"
      },
      "outputs": [
        {
          "output_type": "stream",
          "name": "stdout",
          "text": [
            "Using cuda device\n"
          ]
        }
      ],
      "source": [
        "# Initialize dataset\n",
        "dataset = torchvision.datasets.ImageFolder(root = TRAIN_DATA_DIR, transform = ToTensor())\n",
        "num_inputs = np.array(dataset[0][0].numpy().shape).prod()\n",
        "num_outputs = len(dataset.classes)\n",
        "\n",
        "# Check for CUDA GPU\n",
        "device = torch.device('cuda' if torch.cuda.is_available() else 'cpu')\n",
        "print(f'Using {device} device')"
      ]
    },
    {
      "cell_type": "code",
      "execution_count": 6,
      "metadata": {
        "id": "f_ISSRVcEhM-"
      },
      "outputs": [],
      "source": [
        "def split_dataset(dataset, num_samples, train_split, batch_size, seed = 0):\n",
        "    '''\n",
        "    Create training and test data loaders from the given dataset.\n",
        "\n",
        "    Params:\n",
        "        dataset = PyTorch Dataset instance for full dataset\n",
        "        num_samples = Number of samples to use from the full dataset\n",
        "        train_split = Fraction of train data in train/test split\n",
        "        batch_size Minibatch size for training\n",
        "        seed = Random seed for dataset shuffle and split. Set to None for no seed.\n",
        "\n",
        "    Returns:\n",
        "        train_loader = Dataloader for the training samples\n",
        "        test_loader = Dataloader for the test samples\n",
        "    '''\n",
        "\n",
        "    # Perform stratified split of dataset indicies\n",
        "    train_size = int((num_samples * train_split) // batch_size) * batch_size\n",
        "    test_size = num_samples - train_size\n",
        "    dataset_inds = list(range(len(dataset)))\n",
        "    train_inds, test_inds = train_test_split(dataset_inds, train_size = train_size, test_size = test_size, random_state = seed, stratify = dataset.targets)\n",
        "\n",
        "    # Create training and test subsets\n",
        "    train_set = Subset(dataset, train_inds)\n",
        "    test_set = Subset(dataset, test_inds)\n",
        "\n",
        "    # Initialize data loader\n",
        "    train_loader = torch.utils.data.DataLoader(train_set, batch_size = batch_size, shuffle = True)\n",
        "    test_loader = torch.utils.data.DataLoader(test_set, batch_size = batch_size, shuffle = False)\n",
        "\n",
        "    return train_loader, test_loader"
      ]
    },
    {
      "cell_type": "markdown",
      "metadata": {
        "id": "9mNkxR2AEhM_"
      },
      "source": [
        "### Training Implementation"
      ]
    },
    {
      "cell_type": "code",
      "execution_count": 7,
      "metadata": {
        "id": "uKxvcsnlEhNA"
      },
      "outputs": [],
      "source": [
        "def train(data_loader, model, loss_func, optimizer):\n",
        "    # Initialize parameters\n",
        "    size = len(data_loader.dataset)\n",
        "    num_batches = len(data_loader)\n",
        "    total_loss = 0\n",
        "    correct = 0\n",
        "\n",
        "    # Set mode to training\n",
        "    model.train()\n",
        "\n",
        "    # Initialize progress bar\n",
        "    progress = ProgressBar('Train Progress', len(data_loader))\n",
        "\n",
        "    # Iterate through batches\n",
        "    for images, labels in data_loader: \n",
        "        # Transfer images and labels to GPU\n",
        "        images, labels = images.to(device), labels.to(device)\n",
        "        #images = images.view(-1, num_inputs)\n",
        "        \n",
        "        # Forward pass \n",
        "        outputs = model(images)\n",
        "        loss = loss_func(outputs, labels)\n",
        "\n",
        "        # Backpropagation\n",
        "        optimizer.zero_grad()\n",
        "        loss.backward()\n",
        "\n",
        "        # Optimization\n",
        "        optimizer.step()\n",
        "\n",
        "        # Transfer outputs and labels to CPU\n",
        "        outputs, labels = outputs.cpu(), labels.cpu()\n",
        "        \n",
        "        # Compute batch metrics\n",
        "        total_loss += loss.item()\n",
        "        pred = torch.max(outputs, 1)[1]\n",
        "        correct += (pred == labels).sum().numpy()\n",
        "\n",
        "        # Update progress\n",
        "        progress.step()\n",
        "\n",
        "    # Compute metrics for dataset\n",
        "    total_loss /= num_batches\n",
        "    accuracy = (correct / size) * 100\n",
        "\n",
        "    return total_loss, accuracy"
      ]
    },
    {
      "cell_type": "code",
      "execution_count": 8,
      "metadata": {
        "id": "-8pfhoEzEhNB"
      },
      "outputs": [],
      "source": [
        "def test(data_loader, model, loss_func):\n",
        "    # Initialize parameters\n",
        "    size = len(data_loader.dataset)\n",
        "    num_batches = len(data_loader)\n",
        "    total_loss = 0\n",
        "    correct = 0\n",
        "\n",
        "    # Set mode to evaluation\n",
        "    model.eval()\n",
        "\n",
        "    # Initialize progress bar\n",
        "    progress = ProgressBar('Valid Progress', len(data_loader))\n",
        "\n",
        "    # Iterate through batches\n",
        "    with torch.no_grad():\n",
        "        for images, labels in data_loader:\n",
        "            # Transfer images and labels to GPU\n",
        "            images, labels = images.to(device), labels.to(device)\n",
        "            #images = images.view(-1, num_inputs)\n",
        "\n",
        "            # Forward pass\n",
        "            outputs = model(images)\n",
        "            loss = loss_func(outputs, labels)\n",
        "\n",
        "            # Transfer outputs and labels to CPU\n",
        "            outputs, labels = outputs.cpu(), labels.cpu()\n",
        "\n",
        "            # Compute batch metrics\n",
        "            total_loss += loss.item()\n",
        "            pred = torch.max(outputs, 1)[1]\n",
        "            correct += (pred == labels).sum().numpy()\n",
        "\n",
        "            # Update progress\n",
        "            progress.step()\n",
        "            \n",
        "    # Compute metrics for dataset\n",
        "    total_loss /= num_batches\n",
        "    accuracy = (correct / size) * 100\n",
        "\n",
        "    return total_loss, accuracy"
      ]
    },
    {
      "cell_type": "code",
      "execution_count": 9,
      "metadata": {
        "id": "TIBp-4gdEhNC"
      },
      "outputs": [],
      "source": [
        "def train_model(model, train_loader, valid_loader, learning_rate, num_epochs, weight_decay = 0):\n",
        "    # Initialize training parameters\n",
        "    loss_func = nn.CrossEntropyLoss()\n",
        "    optimizer = torch.optim.SGD(model.parameters(), lr = learning_rate, weight_decay = weight_decay)\n",
        "\n",
        "    # Initialize metrics\n",
        "    train_loss_list = []\n",
        "    test_loss_list = []\n",
        "    train_accuracy_list = []\n",
        "    test_accuracy_list = []\n",
        "\n",
        "    # Train model\n",
        "    for epoch in range(num_epochs):\n",
        "        # Train and evaluate model\n",
        "        train_loss, train_accuracy = train(train_loader, model, loss_func, optimizer)\n",
        "        valid_loss, valid_accuracy = test(valid_loader, model, loss_func)\n",
        "\n",
        "        # Store epoch metrics\n",
        "        train_loss_list.append(train_loss)\n",
        "        train_accuracy_list.append(train_accuracy)\n",
        "        test_loss_list.append(valid_loss)\n",
        "        test_accuracy_list.append(valid_accuracy)\n",
        "\n",
        "        # Output progress\n",
        "        print('Epoch {} | Loss = {:.4f} | Train Accuracy = {:.2f}% | Test Accuracy = {:.2f}%'.format(epoch + 1, train_loss, train_accuracy, valid_accuracy))\n",
        "\n",
        "    return (train_loss_list, train_accuracy_list), (test_loss_list, test_accuracy_list)"
      ]
    },
    {
      "cell_type": "markdown",
      "metadata": {
        "id": "PR6C5dyTEhND"
      },
      "source": [
        "GoogLeNet Model"
      ]
    },
    {
      "cell_type": "code",
      "execution_count": 10,
      "metadata": {
        "colab": {
          "base_uri": "https://localhost:8080/",
          "height": 156,
          "referenced_widgets": [
            "8dc2be207bfe4acebfde7c5366eeaf8c",
            "ba464557852041dbbde224d3f92001f6",
            "80e80df2973342368810c21533b414da",
            "0f22dd468a914c12984d84a2e4eb45c4",
            "e78f2aa3151546ce850307a6c9daef0b",
            "51796159696245c59b06f6e54a34cf1a",
            "00e7c69907484853afaa3a6e0b39272d",
            "f79321d37ce34b04856ab6fa9e40a877",
            "5b33229fd29f49e69a64c35f1d665312",
            "f07f386d1757456db7f5ebd107e597b8",
            "ebcb19cf0f02426f88d54994342e4cb3"
          ]
        },
        "id": "ztjN9Ov-EhND",
        "outputId": "7843036e-e67c-4699-eaa9-db6edf160804"
      },
      "outputs": [
        {
          "output_type": "stream",
          "name": "stderr",
          "text": [
            "/usr/local/lib/python3.7/dist-packages/torchvision/models/_utils.py:209: UserWarning: The parameter 'pretrained' is deprecated since 0.13 and will be removed in 0.15, please use 'weights' instead.\n",
            "  f\"The parameter '{pretrained_param}' is deprecated since 0.13 and will be removed in 0.15, \"\n",
            "/usr/local/lib/python3.7/dist-packages/torchvision/models/_utils.py:223: UserWarning: Arguments other than a weight enum or `None` for 'weights' are deprecated since 0.13 and will be removed in 0.15. The current behavior is equivalent to passing `weights=GoogLeNet_Weights.IMAGENET1K_V1`. You can also use `weights=GoogLeNet_Weights.DEFAULT` to get the most up-to-date weights.\n",
            "  warnings.warn(msg)\n",
            "Downloading: \"https://download.pytorch.org/models/googlenet-1378be20.pth\" to /root/.cache/torch/hub/checkpoints/googlenet-1378be20.pth\n"
          ]
        },
        {
          "output_type": "display_data",
          "data": {
            "text/plain": [
              "  0%|          | 0.00/49.7M [00:00<?, ?B/s]"
            ],
            "application/vnd.jupyter.widget-view+json": {
              "version_major": 2,
              "version_minor": 0,
              "model_id": "8dc2be207bfe4acebfde7c5366eeaf8c"
            }
          },
          "metadata": {}
        }
      ],
      "source": [
        "googlenet = models.googlenet(pretrained = True)\n",
        "googlenet = googlenet.to(device)"
      ]
    },
    {
      "cell_type": "code",
      "execution_count": 11,
      "metadata": {
        "colab": {
          "base_uri": "https://localhost:8080/"
        },
        "id": "PTJusiyWEhNE",
        "outputId": "1093896e-f8ee-4489-dae0-71ef3c0f36af"
      },
      "outputs": [
        {
          "output_type": "stream",
          "name": "stdout",
          "text": [
            "Train Progress: |████████████████████████████████████████| 100.0%\n",
            "Valid Progress: |████████████████████████████████████████| 100.0%\n",
            "Epoch 1 | Loss = 4.3596 | Train Accuracy = 2.25% | Test Accuracy = 4.00%\n",
            "Train Progress: |████████████████████████████████████████| 100.0%\n",
            "Valid Progress: |████████████████████████████████████████| 100.0%\n",
            "Epoch 2 | Loss = 3.5590 | Train Accuracy = 7.50% | Test Accuracy = 8.00%\n",
            "Train Progress: |████████████████████████████████████████| 100.0%\n",
            "Valid Progress: |████████████████████████████████████████| 100.0%\n",
            "Epoch 3 | Loss = 3.0118 | Train Accuracy = 13.50% | Test Accuracy = 29.00%\n",
            "Train Progress: |████████████████████████████████████████| 100.0%\n",
            "Valid Progress: |████████████████████████████████████████| 100.0%\n",
            "Epoch 4 | Loss = 2.2668 | Train Accuracy = 34.00% | Test Accuracy = 40.00%\n",
            "Train Progress: |████████████████████████████████████████| 100.0%\n",
            "Valid Progress: |████████████████████████████████████████| 100.0%\n",
            "Epoch 5 | Loss = 1.6144 | Train Accuracy = 54.75% | Test Accuracy = 50.00%\n",
            "Train Progress: |████████████████████████████████████████| 100.0%\n",
            "Valid Progress: |████████████████████████████████████████| 100.0%\n",
            "Epoch 6 | Loss = 0.9578 | Train Accuracy = 82.25% | Test Accuracy = 59.00%\n",
            "Train Progress: |████████████████████████████████████████| 100.0%\n",
            "Valid Progress: |████████████████████████████████████████| 100.0%\n",
            "Epoch 7 | Loss = 0.5252 | Train Accuracy = 91.25% | Test Accuracy = 69.00%\n",
            "Train Progress: |████████████████████████████████████████| 100.0%\n",
            "Valid Progress: |████████████████████████████████████████| 100.0%\n",
            "Epoch 8 | Loss = 0.2197 | Train Accuracy = 99.00% | Test Accuracy = 64.00%\n",
            "Train Progress: |████████████████████████████████████████| 100.0%\n",
            "Valid Progress: |████████████████████████████████████████| 100.0%\n",
            "Epoch 9 | Loss = 0.1239 | Train Accuracy = 100.00% | Test Accuracy = 72.00%\n",
            "Train Progress: |████████████████████████████████████████| 100.0%\n",
            "Valid Progress: |████████████████████████████████████████| 100.0%\n",
            "Epoch 10 | Loss = 0.0717 | Train Accuracy = 100.00% | Test Accuracy = 73.00%\n",
            "Train Progress: |████████████████████████████████████████| 100.0%\n",
            "Valid Progress: |████████████████████████████████████████| 100.0%\n",
            "Epoch 11 | Loss = 0.0497 | Train Accuracy = 100.00% | Test Accuracy = 73.00%\n",
            "Train Progress: |████████████████████████████████████████| 100.0%\n",
            "Valid Progress: |████████████████████████████████████████| 100.0%\n",
            "Epoch 12 | Loss = 0.0392 | Train Accuracy = 100.00% | Test Accuracy = 74.00%\n",
            "Train Progress: |████████████████████████████████████████| 100.0%\n",
            "Valid Progress: |████████████████████████████████████████| 100.0%\n",
            "Epoch 13 | Loss = 0.0310 | Train Accuracy = 100.00% | Test Accuracy = 78.00%\n",
            "Train Progress: |████████████████████████████████████████| 100.0%\n",
            "Valid Progress: |████████████████████████████████████████| 100.0%\n",
            "Epoch 14 | Loss = 0.0273 | Train Accuracy = 100.00% | Test Accuracy = 68.00%\n",
            "Train Progress: |████████████████████████████████████████| 100.0%\n",
            "Valid Progress: |████████████████████████████████████████| 100.0%\n",
            "Epoch 15 | Loss = 0.0227 | Train Accuracy = 100.00% | Test Accuracy = 72.00%\n",
            "Train Progress: |████████████████████████████████████████| 100.0%\n",
            "Valid Progress: |████████████████████████████████████████| 100.0%\n",
            "Epoch 16 | Loss = 0.0200 | Train Accuracy = 100.00% | Test Accuracy = 74.00%\n",
            "Train Progress: |████████████████████████████████████████| 100.0%\n",
            "Valid Progress: |████████████████████████████████████████| 100.0%\n",
            "Epoch 17 | Loss = 0.0184 | Train Accuracy = 100.00% | Test Accuracy = 75.00%\n",
            "Train Progress: |████████████████████████████████████████| 100.0%\n",
            "Valid Progress: |████████████████████████████████████████| 100.0%\n",
            "Epoch 18 | Loss = 0.0165 | Train Accuracy = 100.00% | Test Accuracy = 77.00%\n",
            "Train Progress: |████████████████████████████████████████| 100.0%\n",
            "Valid Progress: |████████████████████████████████████████| 100.0%\n",
            "Epoch 19 | Loss = 0.0156 | Train Accuracy = 100.00% | Test Accuracy = 70.00%\n",
            "Train Progress: |████████████████████████████████████████| 100.0%\n",
            "Valid Progress: |████████████████████████████████████████| 100.0%\n",
            "Epoch 20 | Loss = 0.0140 | Train Accuracy = 100.00% | Test Accuracy = 67.00%\n",
            "Train Progress: |████████████████████████████████████████| 100.0%\n",
            "Valid Progress: |████████████████████████████████████████| 100.0%\n",
            "Epoch 21 | Loss = 0.0135 | Train Accuracy = 100.00% | Test Accuracy = 76.00%\n",
            "Train Progress: |████████████████████████████████████████| 100.0%\n",
            "Valid Progress: |████████████████████████████████████████| 100.0%\n",
            "Epoch 22 | Loss = 0.0122 | Train Accuracy = 100.00% | Test Accuracy = 74.00%\n",
            "Train Progress: |████████████████████████████████████████| 100.0%\n",
            "Valid Progress: |████████████████████████████████████████| 100.0%\n",
            "Epoch 23 | Loss = 0.0116 | Train Accuracy = 100.00% | Test Accuracy = 80.00%\n",
            "Train Progress: |████████████████████████████████████████| 100.0%\n",
            "Valid Progress: |████████████████████████████████████████| 100.0%\n",
            "Epoch 24 | Loss = 0.0105 | Train Accuracy = 100.00% | Test Accuracy = 72.00%\n",
            "Train Progress: |████████████████████████████████████████| 100.0%\n",
            "Valid Progress: |████████████████████████████████████████| 100.0%\n",
            "Epoch 25 | Loss = 0.0103 | Train Accuracy = 100.00% | Test Accuracy = 77.00%\n",
            "Train Progress: |████████████████████████████████████████| 100.0%\n",
            "Valid Progress: |████████████████████████████████████████| 100.0%\n",
            "Epoch 26 | Loss = 0.0096 | Train Accuracy = 100.00% | Test Accuracy = 68.00%\n",
            "Train Progress: |████████████████████████████████████████| 100.0%\n",
            "Valid Progress: |████████████████████████████████████████| 100.0%\n",
            "Epoch 27 | Loss = 0.0089 | Train Accuracy = 100.00% | Test Accuracy = 74.00%\n",
            "Train Progress: |████████████████████████████████████████| 100.0%\n",
            "Valid Progress: |████████████████████████████████████████| 100.0%\n",
            "Epoch 28 | Loss = 0.0082 | Train Accuracy = 100.00% | Test Accuracy = 73.00%\n",
            "Train Progress: |████████████████████████████████████████| 100.0%\n",
            "Valid Progress: |████████████████████████████████████████| 100.0%\n",
            "Epoch 29 | Loss = 0.0083 | Train Accuracy = 100.00% | Test Accuracy = 78.00%\n",
            "Train Progress: |████████████████████████████████████████| 100.0%\n",
            "Valid Progress: |████████████████████████████████████████| 100.0%\n",
            "Epoch 30 | Loss = 0.0077 | Train Accuracy = 100.00% | Test Accuracy = 79.00%\n",
            "Train Progress: |████████████████████████████████████████| 100.0%\n",
            "Valid Progress: |████████████████████████████████████████| 100.0%\n",
            "Epoch 31 | Loss = 0.0074 | Train Accuracy = 100.00% | Test Accuracy = 67.00%\n",
            "Train Progress: |████████████████████████████████████████| 100.0%\n",
            "Valid Progress: |████████████████████████████████████████| 100.0%\n",
            "Epoch 32 | Loss = 0.0072 | Train Accuracy = 100.00% | Test Accuracy = 70.00%\n",
            "Train Progress: |████████████████████████████████████████| 100.0%\n",
            "Valid Progress: |████████████████████████████████████████| 100.0%\n",
            "Epoch 33 | Loss = 0.0067 | Train Accuracy = 100.00% | Test Accuracy = 78.00%\n",
            "Train Progress: |████████████████████████████████████████| 100.0%\n",
            "Valid Progress: |████████████████████████████████████████| 100.0%\n",
            "Epoch 34 | Loss = 0.0068 | Train Accuracy = 100.00% | Test Accuracy = 74.00%\n",
            "Train Progress: |████████████████████████████████████████| 100.0%\n",
            "Valid Progress: |████████████████████████████████████████| 100.0%\n",
            "Epoch 35 | Loss = 0.0065 | Train Accuracy = 100.00% | Test Accuracy = 76.00%\n",
            "Train Progress: |████████████████████████████████████████| 100.0%\n",
            "Valid Progress: |████████████████████████████████████████| 100.0%\n",
            "Epoch 36 | Loss = 0.0062 | Train Accuracy = 100.00% | Test Accuracy = 75.00%\n",
            "Train Progress: |████████████████████████████████████████| 100.0%\n",
            "Valid Progress: |████████████████████████████████████████| 100.0%\n",
            "Epoch 37 | Loss = 0.0059 | Train Accuracy = 100.00% | Test Accuracy = 67.00%\n",
            "Train Progress: |████████████████████████████████████████| 100.0%\n",
            "Valid Progress: |████████████████████████████████████████| 100.0%\n",
            "Epoch 38 | Loss = 0.0058 | Train Accuracy = 100.00% | Test Accuracy = 69.00%\n",
            "Train Progress: |████████████████████████████████████████| 100.0%\n",
            "Valid Progress: |████████████████████████████████████████| 100.0%\n",
            "Epoch 39 | Loss = 0.0054 | Train Accuracy = 100.00% | Test Accuracy = 73.00%\n",
            "Train Progress: |████████████████████████████████████████| 100.0%\n",
            "Valid Progress: |████████████████████████████████████████| 100.0%\n",
            "Epoch 40 | Loss = 0.0053 | Train Accuracy = 100.00% | Test Accuracy = 70.00%\n",
            "Train Progress: |████████████████████████████████████████| 100.0%\n",
            "Valid Progress: |████████████████████████████████████████| 100.0%\n",
            "Epoch 41 | Loss = 0.0049 | Train Accuracy = 100.00% | Test Accuracy = 81.00%\n",
            "Train Progress: |████████████████████████████████████████| 100.0%\n",
            "Valid Progress: |████████████████████████████████████████| 100.0%\n",
            "Epoch 42 | Loss = 0.0050 | Train Accuracy = 100.00% | Test Accuracy = 76.00%\n",
            "Train Progress: |████████████████████████████████████████| 100.0%\n",
            "Valid Progress: |████████████████████████████████████████| 100.0%\n",
            "Epoch 43 | Loss = 0.0050 | Train Accuracy = 100.00% | Test Accuracy = 69.00%\n",
            "Train Progress: |████████████████████████████████████████| 100.0%\n",
            "Valid Progress: |████████████████████████████████████████| 100.0%\n",
            "Epoch 44 | Loss = 0.0048 | Train Accuracy = 100.00% | Test Accuracy = 69.00%\n",
            "Train Progress: |████████████████████████████████████████| 100.0%\n",
            "Valid Progress: |████████████████████████████████████████| 100.0%\n",
            "Epoch 45 | Loss = 0.0046 | Train Accuracy = 100.00% | Test Accuracy = 76.00%\n",
            "Train Progress: |████████████████████████████████████████| 100.0%\n",
            "Valid Progress: |████████████████████████████████████████| 100.0%\n",
            "Epoch 46 | Loss = 0.0045 | Train Accuracy = 100.00% | Test Accuracy = 75.00%\n",
            "Train Progress: |████████████████████████████████████████| 100.0%\n",
            "Valid Progress: |████████████████████████████████████████| 100.0%\n",
            "Epoch 47 | Loss = 0.0043 | Train Accuracy = 100.00% | Test Accuracy = 80.00%\n",
            "Train Progress: |████████████████████████████████████████| 100.0%\n",
            "Valid Progress: |████████████████████████████████████████| 100.0%\n",
            "Epoch 48 | Loss = 0.0044 | Train Accuracy = 100.00% | Test Accuracy = 74.00%\n",
            "Train Progress: |████████████████████████████████████████| 100.0%\n",
            "Valid Progress: |████████████████████████████████████████| 100.0%\n",
            "Epoch 49 | Loss = 0.0041 | Train Accuracy = 100.00% | Test Accuracy = 76.00%\n",
            "Train Progress: |████████████████████████████████████████| 100.0%\n",
            "Valid Progress: |████████████████████████████████████████| 100.0%\n",
            "Epoch 50 | Loss = 0.0040 | Train Accuracy = 100.00% | Test Accuracy = 70.00%\n"
          ]
        }
      ],
      "source": [
        "train_loader1, valid_loader1 = split_dataset(dataset, 500, 0.8, 1)\n",
        "train_metrics1, valid_metrics1 = train_model(googlenet, train_loader1, valid_loader1, 0.015, 50)"
      ]
    },
    {
      "cell_type": "code",
      "execution_count": 12,
      "metadata": {
        "colab": {
          "base_uri": "https://localhost:8080/",
          "height": 329
        },
        "id": "QsUhQgL-EhNE",
        "outputId": "ca740287-054e-4c62-bfd9-23c7ab8040e4"
      },
      "outputs": [
        {
          "output_type": "stream",
          "name": "stdout",
          "text": [
            "Final Train Accuracy = 100.00%\n",
            "Final Test Accuracy  = 70.00%\n"
          ]
        },
        {
          "output_type": "display_data",
          "data": {
            "text/plain": [
              "<Figure size 504x216 with 2 Axes>"
            ],
            "image/png": "[encoded data removed]"
          },
          "metadata": {
            "needs_background": "light"
          }
        }
      ],
      "source": [
        "plot_metrics(train_metrics1, valid_metrics1)"
      ]
    },
    {
      "cell_type": "code",
      "source": [
        "resnet18 = models.resnet18(pretrained = True)\n",
        "resnet18 = resnet18.to(device)\n",
        "train_loader2, valid_loader2 = split_dataset(dataset, 500, 0.8, 1)\n",
        "train_metrics2, valid_metrics2 = train_model(resnet18, train_loader2, valid_loader2, 0.015, 50)\n",
        "plot_metrics(train_metrics2, valid_metrics2)"
      ],
      "metadata": {
        "colab": {
          "base_uri": "https://localhost:8080/",
          "height": 1000
        },
        "id": "4wyRghnVgLSO",
        "outputId": "ea197884-174e-40b6-9621-889f40a0e467"
      },
      "execution_count": 18,
      "outputs": [
        {
          "output_type": "stream",
          "name": "stderr",
          "text": [
            "/usr/local/lib/python3.7/dist-packages/torchvision/models/_utils.py:209: UserWarning: The parameter 'pretrained' is deprecated since 0.13 and will be removed in 0.15, please use 'weights' instead.\n",
            "  f\"The parameter '{pretrained_param}' is deprecated since 0.13 and will be removed in 0.15, \"\n",
            "/usr/local/lib/python3.7/dist-packages/torchvision/models/_utils.py:223: UserWarning: Arguments other than a weight enum or `None` for 'weights' are deprecated since 0.13 and will be removed in 0.15. The current behavior is equivalent to passing `weights=ResNet18_Weights.IMAGENET1K_V1`. You can also use `weights=ResNet18_Weights.DEFAULT` to get the most up-to-date weights.\n",
            "  warnings.warn(msg)\n"
          ]
        },
        {
          "output_type": "stream",
          "name": "stdout",
          "text": [
            "Train Progress: |████████████████████████████████████████| 100.0%\n",
            "Valid Progress: |████████████████████████████████████████| 100.0%\n",
            "Epoch 1 | Loss = 4.6274 | Train Accuracy = 3.75% | Test Accuracy = 3.00%\n",
            "Train Progress: |████████████████████████████████████████| 100.0%\n",
            "Valid Progress: |████████████████████████████████████████| 100.0%\n",
            "Epoch 2 | Loss = 3.8532 | Train Accuracy = 4.25% | Test Accuracy = 6.00%\n",
            "Train Progress: |████████████████████████████████████████| 100.0%\n",
            "Valid Progress: |████████████████████████████████████████| 100.0%\n",
            "Epoch 3 | Loss = 3.5295 | Train Accuracy = 7.75% | Test Accuracy = 11.00%\n",
            "Train Progress: |████████████████████████████████████████| 100.0%\n",
            "Valid Progress: |████████████████████████████████████████| 100.0%\n",
            "Epoch 4 | Loss = 3.1011 | Train Accuracy = 14.00% | Test Accuracy = 14.00%\n",
            "Train Progress: |████████████████████████████████████████| 100.0%\n",
            "Valid Progress: |████████████████████████████████████████| 100.0%\n",
            "Epoch 5 | Loss = 2.6335 | Train Accuracy = 24.00% | Test Accuracy = 20.00%\n",
            "Train Progress: |████████████████████████████████████████| 100.0%\n",
            "Valid Progress: |████████████████████████████████████████| 100.0%\n",
            "Epoch 6 | Loss = 2.2726 | Train Accuracy = 29.75% | Test Accuracy = 24.00%\n",
            "Train Progress: |████████████████████████████████████████| 100.0%\n",
            "Valid Progress: |████████████████████████████████████████| 100.0%\n",
            "Epoch 7 | Loss = 1.8683 | Train Accuracy = 40.50% | Test Accuracy = 31.00%\n",
            "Train Progress: |████████████████████████████████████████| 100.0%\n",
            "Valid Progress: |████████████████████████████████████████| 100.0%\n",
            "Epoch 8 | Loss = 1.4969 | Train Accuracy = 48.50% | Test Accuracy = 39.00%\n",
            "Train Progress: |████████████████████████████████████████| 100.0%\n",
            "Valid Progress: |████████████████████████████████████████| 100.0%\n",
            "Epoch 9 | Loss = 1.2643 | Train Accuracy = 57.00% | Test Accuracy = 44.00%\n",
            "Train Progress: |████████████████████████████████████████| 100.0%\n",
            "Valid Progress: |████████████████████████████████████████| 100.0%\n",
            "Epoch 10 | Loss = 1.1070 | Train Accuracy = 62.25% | Test Accuracy = 47.00%\n",
            "Train Progress: |████████████████████████████████████████| 100.0%\n",
            "Valid Progress: |████████████████████████████████████████| 100.0%\n",
            "Epoch 11 | Loss = 0.9280 | Train Accuracy = 64.50% | Test Accuracy = 36.00%\n",
            "Train Progress: |████████████████████████████████████████| 100.0%\n",
            "Valid Progress: |████████████████████████████████████████| 100.0%\n",
            "Epoch 12 | Loss = 0.7247 | Train Accuracy = 74.00% | Test Accuracy = 42.00%\n",
            "Train Progress: |████████████████████████████████████████| 100.0%\n",
            "Valid Progress: |████████████████████████████████████████| 100.0%\n",
            "Epoch 13 | Loss = 0.4973 | Train Accuracy = 81.75% | Test Accuracy = 52.00%\n",
            "Train Progress: |████████████████████████████████████████| 100.0%\n",
            "Valid Progress: |████████████████████████████████████████| 100.0%\n",
            "Epoch 14 | Loss = 0.3041 | Train Accuracy = 91.00% | Test Accuracy = 54.00%\n",
            "Train Progress: |████████████████████████████████████████| 100.0%\n",
            "Valid Progress: |████████████████████████████████████████| 100.0%\n",
            "Epoch 15 | Loss = 0.2437 | Train Accuracy = 93.75% | Test Accuracy = 56.00%\n",
            "Train Progress: |████████████████████████████████████████| 100.0%\n",
            "Valid Progress: |████████████████████████████████████████| 100.0%\n",
            "Epoch 16 | Loss = 0.0815 | Train Accuracy = 98.75% | Test Accuracy = 59.00%\n",
            "Train Progress: |████████████████████████████████████████| 100.0%\n",
            "Valid Progress: |████████████████████████████████████████| 100.0%\n",
            "Epoch 17 | Loss = 0.0362 | Train Accuracy = 100.00% | Test Accuracy = 62.00%\n",
            "Train Progress: |████████████████████████████████████████| 100.0%\n",
            "Valid Progress: |████████████████████████████████████████| 100.0%\n",
            "Epoch 18 | Loss = 0.0261 | Train Accuracy = 100.00% | Test Accuracy = 64.00%\n",
            "Train Progress: |████████████████████████████████████████| 100.0%\n",
            "Valid Progress: |████████████████████████████████████████| 100.0%\n",
            "Epoch 19 | Loss = 0.0207 | Train Accuracy = 100.00% | Test Accuracy = 63.00%\n",
            "Train Progress: |████████████████████████████████████████| 100.0%\n",
            "Valid Progress: |████████████████████████████████████████| 100.0%\n",
            "Epoch 20 | Loss = 0.0174 | Train Accuracy = 100.00% | Test Accuracy = 61.00%\n",
            "Train Progress: |████████████████████████████████████████| 100.0%\n",
            "Valid Progress: |████████████████████████████████████████| 100.0%\n",
            "Epoch 21 | Loss = 0.0150 | Train Accuracy = 100.00% | Test Accuracy = 64.00%\n",
            "Train Progress: |████████████████████████████████████████| 100.0%\n",
            "Valid Progress: |████████████████████████████████████████| 100.0%\n",
            "Epoch 22 | Loss = 0.0132 | Train Accuracy = 100.00% | Test Accuracy = 62.00%\n",
            "Train Progress: |████████████████████████████████████████| 100.0%\n",
            "Valid Progress: |████████████████████████████████████████| 100.0%\n",
            "Epoch 23 | Loss = 0.0119 | Train Accuracy = 100.00% | Test Accuracy = 64.00%\n",
            "Train Progress: |████████████████████████████████████████| 100.0%\n",
            "Valid Progress: |████████████████████████████████████████| 100.0%\n",
            "Epoch 24 | Loss = 0.0107 | Train Accuracy = 100.00% | Test Accuracy = 63.00%\n",
            "Train Progress: |████████████████████████████████████████| 100.0%\n",
            "Valid Progress: |████████████████████████████████████████| 100.0%\n",
            "Epoch 25 | Loss = 0.0098 | Train Accuracy = 100.00% | Test Accuracy = 57.00%\n",
            "Train Progress: |████████████████████████████████████████| 100.0%\n",
            "Valid Progress: |████████████████████████████████████████| 100.0%\n",
            "Epoch 26 | Loss = 0.0091 | Train Accuracy = 100.00% | Test Accuracy = 62.00%\n",
            "Train Progress: |████████████████████████████████████████| 100.0%\n",
            "Valid Progress: |████████████████████████████████████████| 100.0%\n",
            "Epoch 27 | Loss = 0.0084 | Train Accuracy = 100.00% | Test Accuracy = 63.00%\n",
            "Train Progress: |████████████████████████████████████████| 100.0%\n",
            "Valid Progress: |████████████████████████████████████████| 100.0%\n",
            "Epoch 28 | Loss = 0.0078 | Train Accuracy = 100.00% | Test Accuracy = 62.00%\n",
            "Train Progress: |████████████████████████████████████████| 100.0%\n",
            "Valid Progress: |████████████████████████████████████████| 100.0%\n",
            "Epoch 29 | Loss = 0.0073 | Train Accuracy = 100.00% | Test Accuracy = 59.00%\n",
            "Train Progress: |████████████████████████████████████████| 100.0%\n",
            "Valid Progress: |████████████████████████████████████████| 100.0%\n",
            "Epoch 30 | Loss = 0.0069 | Train Accuracy = 100.00% | Test Accuracy = 60.00%\n",
            "Train Progress: |████████████████████████████████████████| 100.0%\n",
            "Valid Progress: |████████████████████████████████████████| 100.0%\n",
            "Epoch 31 | Loss = 0.0065 | Train Accuracy = 100.00% | Test Accuracy = 63.00%\n",
            "Train Progress: |████████████████████████████████████████| 100.0%\n",
            "Valid Progress: |████████████████████████████████████████| 100.0%\n",
            "Epoch 32 | Loss = 0.0062 | Train Accuracy = 100.00% | Test Accuracy = 56.00%\n",
            "Train Progress: |████████████████████████████████████████| 100.0%\n",
            "Valid Progress: |████████████████████████████████████████| 100.0%\n",
            "Epoch 33 | Loss = 0.0059 | Train Accuracy = 100.00% | Test Accuracy = 58.00%\n",
            "Train Progress: |████████████████████████████████████████| 100.0%\n",
            "Valid Progress: |████████████████████████████████████████| 100.0%\n",
            "Epoch 34 | Loss = 0.0056 | Train Accuracy = 100.00% | Test Accuracy = 61.00%\n",
            "Train Progress: |████████████████████████████████████████| 100.0%\n",
            "Valid Progress: |████████████████████████████████████████| 100.0%\n",
            "Epoch 35 | Loss = 0.0053 | Train Accuracy = 100.00% | Test Accuracy = 62.00%\n",
            "Train Progress: |████████████████████████████████████████| 100.0%\n",
            "Valid Progress: |████████████████████████████████████████| 100.0%\n",
            "Epoch 36 | Loss = 0.0051 | Train Accuracy = 100.00% | Test Accuracy = 62.00%\n",
            "Train Progress: |████████████████████████████████████████| 100.0%\n",
            "Valid Progress: |████████████████████████████████████████| 100.0%\n",
            "Epoch 37 | Loss = 0.0049 | Train Accuracy = 100.00% | Test Accuracy = 65.00%\n",
            "Train Progress: |████████████████████████████████████████| 100.0%\n",
            "Valid Progress: |████████████████████████████████████████| 100.0%\n",
            "Epoch 38 | Loss = 0.0047 | Train Accuracy = 100.00% | Test Accuracy = 63.00%\n",
            "Train Progress: |████████████████████████████████████████| 100.0%\n",
            "Valid Progress: |████████████████████████████████████████| 100.0%\n",
            "Epoch 39 | Loss = 0.0045 | Train Accuracy = 100.00% | Test Accuracy = 58.00%\n",
            "Train Progress: |████████████████████████████████████████| 100.0%\n",
            "Valid Progress: |████████████████████████████████████████| 100.0%\n",
            "Epoch 40 | Loss = 0.0043 | Train Accuracy = 100.00% | Test Accuracy = 63.00%\n",
            "Train Progress: |████████████████████████████████████████| 100.0%\n",
            "Valid Progress: |████████████████████████████████████████| 100.0%\n",
            "Epoch 41 | Loss = 0.0042 | Train Accuracy = 100.00% | Test Accuracy = 63.00%\n",
            "Train Progress: |████████████████████████████████████████| 100.0%\n",
            "Valid Progress: |████████████████████████████████████████| 100.0%\n",
            "Epoch 42 | Loss = 0.0040 | Train Accuracy = 100.00% | Test Accuracy = 64.00%\n",
            "Train Progress: |████████████████████████████████████████| 100.0%\n",
            "Valid Progress: |████████████████████████████████████████| 100.0%\n",
            "Epoch 43 | Loss = 0.0039 | Train Accuracy = 100.00% | Test Accuracy = 65.00%\n",
            "Train Progress: |████████████████████████████████████████| 100.0%\n",
            "Valid Progress: |████████████████████████████████████████| 100.0%\n",
            "Epoch 44 | Loss = 0.0038 | Train Accuracy = 100.00% | Test Accuracy = 56.00%\n",
            "Train Progress: |████████████████████████████████████████| 100.0%\n",
            "Valid Progress: |████████████████████████████████████████| 100.0%\n",
            "Epoch 45 | Loss = 0.0037 | Train Accuracy = 100.00% | Test Accuracy = 58.00%\n",
            "Train Progress: |████████████████████████████████████████| 100.0%\n",
            "Valid Progress: |████████████████████████████████████████| 100.0%\n",
            "Epoch 46 | Loss = 0.0036 | Train Accuracy = 100.00% | Test Accuracy = 58.00%\n",
            "Train Progress: |████████████████████████████████████████| 100.0%\n",
            "Valid Progress: |████████████████████████████████████████| 100.0%\n",
            "Epoch 47 | Loss = 0.0034 | Train Accuracy = 100.00% | Test Accuracy = 67.00%\n",
            "Train Progress: |████████████████████████████████████████| 100.0%\n",
            "Valid Progress: |████████████████████████████████████████| 100.0%\n",
            "Epoch 48 | Loss = 0.0033 | Train Accuracy = 100.00% | Test Accuracy = 64.00%\n",
            "Train Progress: |████████████████████████████████████████| 100.0%\n",
            "Valid Progress: |████████████████████████████████████████| 100.0%\n",
            "Epoch 49 | Loss = 0.0032 | Train Accuracy = 100.00% | Test Accuracy = 60.00%\n",
            "Train Progress: |████████████████████████████████████████| 100.0%\n",
            "Valid Progress: |████████████████████████████████████████| 100.0%\n",
            "Epoch 50 | Loss = 0.0031 | Train Accuracy = 100.00% | Test Accuracy = 59.00%\n",
            "Final Train Accuracy = 100.00%\n",
            "Final Test Accuracy  = 59.00%\n"
          ]
        },
        {
          "output_type": "display_data",
          "data": {
            "text/plain": [
              "<Figure size 504x216 with 2 Axes>"
            ],
            "image/png": "[encoded data removed]"
          },
          "metadata": {
            "needs_background": "light"
          }
        }
      ]
    },
    {
      "cell_type": "code",
      "source": [
        "vgg16 = models.vgg16(pretrained = True)\n",
        "vgg16 = vgg16.to(device)\n",
        "train_loader3, valid_loader3 = split_dataset(dataset, 500, 0.8, 1)\n",
        "train_metrics3, valid_metrics3 = train_model(vgg16, train_loader3, valid_loader3, 0.01, 50)\n",
        "plot_metrics(train_metrics3, valid_metrics3)"
      ],
      "metadata": {
        "colab": {
          "base_uri": "https://localhost:8080/",
          "height": 556
        },
        "id": "6OJzzeRjgLKH",
        "outputId": "8943a5e7-0cde-49f4-ca27-9b1d87f00e3c"
      },
      "execution_count": 19,
      "outputs": [
        {
          "output_type": "stream",
          "name": "stderr",
          "text": [
            "/usr/local/lib/python3.7/dist-packages/torchvision/models/_utils.py:209: UserWarning: The parameter 'pretrained' is deprecated since 0.13 and will be removed in 0.15, please use 'weights' instead.\n",
            "  f\"The parameter '{pretrained_param}' is deprecated since 0.13 and will be removed in 0.15, \"\n",
            "/usr/local/lib/python3.7/dist-packages/torchvision/models/_utils.py:223: UserWarning: Arguments other than a weight enum or `None` for 'weights' are deprecated since 0.13 and will be removed in 0.15. The current behavior is equivalent to passing `weights=VGG16_Weights.IMAGENET1K_V1`. You can also use `weights=VGG16_Weights.DEFAULT` to get the most up-to-date weights.\n",
            "  warnings.warn(msg)\n"
          ]
        },
        {
          "output_type": "stream",
          "name": "stdout",
          "text": [
            "Train Progress: |████████████████████████████████████████| 100.0%\n",
            "Valid Progress: |████████████████████████████████████████| 100.0%\n",
            "Epoch 1 | Loss = nan | Train Accuracy = 3.00% | Test Accuracy = 4.00%\n",
            "Train Progress: |████████████████████████████████████████| 100.0%\n",
            "Valid Progress: |████████████████████████████████████████| 100.0%\n",
            "Epoch 2 | Loss = nan | Train Accuracy = 3.25% | Test Accuracy = 4.00%\n"
          ]
        },
        {
          "output_type": "error",
          "ename": "KeyboardInterrupt",
          "evalue": "ignored",
          "traceback": [
            "\u001b[0;31m---------------------------------------------------------------------------\u001b[0m",
            "\u001b[0;31mKeyboardInterrupt\u001b[0m                         Traceback (most recent call last)",
            "\u001b[0;32m<ipython-input-19-67f269260e94>\u001b[0m in \u001b[0;36m<module>\u001b[0;34m\u001b[0m\n\u001b[1;32m      2\u001b[0m \u001b[0mvgg16\u001b[0m \u001b[0;34m=\u001b[0m \u001b[0mvgg16\u001b[0m\u001b[0;34m.\u001b[0m\u001b[0mto\u001b[0m\u001b[0;34m(\u001b[0m\u001b[0mdevice\u001b[0m\u001b[0;34m)\u001b[0m\u001b[0;34m\u001b[0m\u001b[0;34m\u001b[0m\u001b[0m\n\u001b[1;32m      3\u001b[0m \u001b[0mtrain_loader3\u001b[0m\u001b[0;34m,\u001b[0m \u001b[0mvalid_loader3\u001b[0m \u001b[0;34m=\u001b[0m \u001b[0msplit_dataset\u001b[0m\u001b[0;34m(\u001b[0m\u001b[0mdataset\u001b[0m\u001b[0;34m,\u001b[0m \u001b[0;36m500\u001b[0m\u001b[0;34m,\u001b[0m \u001b[0;36m0.8\u001b[0m\u001b[0;34m,\u001b[0m \u001b[0;36m1\u001b[0m\u001b[0;34m)\u001b[0m\u001b[0;34m\u001b[0m\u001b[0;34m\u001b[0m\u001b[0m\n\u001b[0;32m----> 4\u001b[0;31m \u001b[0mtrain_metrics3\u001b[0m\u001b[0;34m,\u001b[0m \u001b[0mvalid_metrics3\u001b[0m \u001b[0;34m=\u001b[0m \u001b[0mtrain_model\u001b[0m\u001b[0;34m(\u001b[0m\u001b[0mvgg16\u001b[0m\u001b[0;34m,\u001b[0m \u001b[0mtrain_loader3\u001b[0m\u001b[0;34m,\u001b[0m \u001b[0mvalid_loader3\u001b[0m\u001b[0;34m,\u001b[0m \u001b[0;36m0.01\u001b[0m\u001b[0;34m,\u001b[0m \u001b[0;36m50\u001b[0m\u001b[0;34m)\u001b[0m\u001b[0;34m\u001b[0m\u001b[0;34m\u001b[0m\u001b[0m\n\u001b[0m\u001b[1;32m      5\u001b[0m \u001b[0mplot_metrics\u001b[0m\u001b[0;34m(\u001b[0m\u001b[0mtrain_metrics3\u001b[0m\u001b[0;34m,\u001b[0m \u001b[0mvalid_metrics3\u001b[0m\u001b[0;34m)\u001b[0m\u001b[0;34m\u001b[0m\u001b[0;34m\u001b[0m\u001b[0m\n",
            "\u001b[0;32m<ipython-input-9-a9c73576a040>\u001b[0m in \u001b[0;36mtrain_model\u001b[0;34m(model, train_loader, valid_loader, learning_rate, num_epochs, weight_decay)\u001b[0m\n\u001b[1;32m     13\u001b[0m     \u001b[0;32mfor\u001b[0m \u001b[0mepoch\u001b[0m \u001b[0;32min\u001b[0m \u001b[0mrange\u001b[0m\u001b[0;34m(\u001b[0m\u001b[0mnum_epochs\u001b[0m\u001b[0;34m)\u001b[0m\u001b[0;34m:\u001b[0m\u001b[0;34m\u001b[0m\u001b[0;34m\u001b[0m\u001b[0m\n\u001b[1;32m     14\u001b[0m         \u001b[0;31m# Train and evaluate model\u001b[0m\u001b[0;34m\u001b[0m\u001b[0;34m\u001b[0m\u001b[0;34m\u001b[0m\u001b[0m\n\u001b[0;32m---> 15\u001b[0;31m         \u001b[0mtrain_loss\u001b[0m\u001b[0;34m,\u001b[0m \u001b[0mtrain_accuracy\u001b[0m \u001b[0;34m=\u001b[0m \u001b[0mtrain\u001b[0m\u001b[0;34m(\u001b[0m\u001b[0mtrain_loader\u001b[0m\u001b[0;34m,\u001b[0m \u001b[0mmodel\u001b[0m\u001b[0;34m,\u001b[0m \u001b[0mloss_func\u001b[0m\u001b[0;34m,\u001b[0m \u001b[0moptimizer\u001b[0m\u001b[0;34m)\u001b[0m\u001b[0;34m\u001b[0m\u001b[0;34m\u001b[0m\u001b[0m\n\u001b[0m\u001b[1;32m     16\u001b[0m         \u001b[0mvalid_loss\u001b[0m\u001b[0;34m,\u001b[0m \u001b[0mvalid_accuracy\u001b[0m \u001b[0;34m=\u001b[0m \u001b[0mtest\u001b[0m\u001b[0;34m(\u001b[0m\u001b[0mvalid_loader\u001b[0m\u001b[0;34m,\u001b[0m \u001b[0mmodel\u001b[0m\u001b[0;34m,\u001b[0m \u001b[0mloss_func\u001b[0m\u001b[0;34m)\u001b[0m\u001b[0;34m\u001b[0m\u001b[0;34m\u001b[0m\u001b[0m\n\u001b[1;32m     17\u001b[0m \u001b[0;34m\u001b[0m\u001b[0m\n",
            "\u001b[0;32m<ipython-input-7-f6379ce1f136>\u001b[0m in \u001b[0;36mtrain\u001b[0;34m(data_loader, model, loss_func, optimizer)\u001b[0m\n\u001b[1;32m     30\u001b[0m \u001b[0;34m\u001b[0m\u001b[0m\n\u001b[1;32m     31\u001b[0m         \u001b[0;31m# Transfer outputs and labels to CPU\u001b[0m\u001b[0;34m\u001b[0m\u001b[0;34m\u001b[0m\u001b[0;34m\u001b[0m\u001b[0m\n\u001b[0;32m---> 32\u001b[0;31m         \u001b[0moutputs\u001b[0m\u001b[0;34m,\u001b[0m \u001b[0mlabels\u001b[0m \u001b[0;34m=\u001b[0m \u001b[0moutputs\u001b[0m\u001b[0;34m.\u001b[0m\u001b[0mcpu\u001b[0m\u001b[0;34m(\u001b[0m\u001b[0;34m)\u001b[0m\u001b[0;34m,\u001b[0m \u001b[0mlabels\u001b[0m\u001b[0;34m.\u001b[0m\u001b[0mcpu\u001b[0m\u001b[0;34m(\u001b[0m\u001b[0;34m)\u001b[0m\u001b[0;34m\u001b[0m\u001b[0;34m\u001b[0m\u001b[0m\n\u001b[0m\u001b[1;32m     33\u001b[0m \u001b[0;34m\u001b[0m\u001b[0m\n\u001b[1;32m     34\u001b[0m         \u001b[0;31m# Compute batch metrics\u001b[0m\u001b[0;34m\u001b[0m\u001b[0;34m\u001b[0m\u001b[0;34m\u001b[0m\u001b[0m\n",
            "\u001b[0;31mKeyboardInterrupt\u001b[0m: "
          ]
        }
      ]
    },
    {
      "cell_type": "code",
      "source": [
        "alexnet = models.alexnet(pretrained = True)\n",
        "alexnet = alexnet.to(device)\n",
        "train_loader4, valid_loader4 = split_dataset(dataset, 500, 0.8, 1)\n",
        "train_metrics4, valid_metrics4 = train_model(alexnet, train_loader4, valid_loader4, 0.01, 50)\n",
        "plot_metrics(train_metrics4, valid_metrics4)"
      ],
      "metadata": {
        "colab": {
          "base_uri": "https://localhost:8080/",
          "height": 1000
        },
        "id": "R2d7nNlSgK-D",
        "outputId": "4f441bb6-a7af-427a-9f7f-0485737d4749"
      },
      "execution_count": 17,
      "outputs": [
        {
          "output_type": "stream",
          "name": "stderr",
          "text": [
            "/usr/local/lib/python3.7/dist-packages/torchvision/models/_utils.py:209: UserWarning: The parameter 'pretrained' is deprecated since 0.13 and will be removed in 0.15, please use 'weights' instead.\n",
            "  f\"The parameter '{pretrained_param}' is deprecated since 0.13 and will be removed in 0.15, \"\n",
            "/usr/local/lib/python3.7/dist-packages/torchvision/models/_utils.py:223: UserWarning: Arguments other than a weight enum or `None` for 'weights' are deprecated since 0.13 and will be removed in 0.15. The current behavior is equivalent to passing `weights=AlexNet_Weights.IMAGENET1K_V1`. You can also use `weights=AlexNet_Weights.DEFAULT` to get the most up-to-date weights.\n",
            "  warnings.warn(msg)\n"
          ]
        },
        {
          "output_type": "stream",
          "name": "stdout",
          "text": [
            "Train Progress: |████████████████████████████████████████| 100.0%\n",
            "Valid Progress: |████████████████████████████████████████| 100.0%\n",
            "Epoch 1 | Loss = 5.2372 | Train Accuracy = 4.00% | Test Accuracy = 3.00%\n",
            "Train Progress: |████████████████████████████████████████| 100.0%\n",
            "Valid Progress: |████████████████████████████████████████| 100.0%\n",
            "Epoch 2 | Loss = 3.7467 | Train Accuracy = 4.50% | Test Accuracy = 9.00%\n",
            "Train Progress: |████████████████████████████████████████| 100.0%\n",
            "Valid Progress: |████████████████████████████████████████| 100.0%\n",
            "Epoch 3 | Loss = 3.3532 | Train Accuracy = 10.25% | Test Accuracy = 9.00%\n",
            "Train Progress: |████████████████████████████████████████| 100.0%\n",
            "Valid Progress: |████████████████████████████████████████| 100.0%\n",
            "Epoch 4 | Loss = 3.3072 | Train Accuracy = 16.25% | Test Accuracy = 25.00%\n",
            "Train Progress: |████████████████████████████████████████| 100.0%\n",
            "Valid Progress: |████████████████████████████████████████| 100.0%\n",
            "Epoch 5 | Loss = 2.9909 | Train Accuracy = 23.25% | Test Accuracy = 8.00%\n",
            "Train Progress: |████████████████████████████████████████| 100.0%\n",
            "Valid Progress: |████████████████████████████████████████| 100.0%\n",
            "Epoch 6 | Loss = 3.3098 | Train Accuracy = 20.50% | Test Accuracy = 17.00%\n",
            "Train Progress: |████████████████████████████████████████| 100.0%\n",
            "Valid Progress: |████████████████████████████████████████| 100.0%\n",
            "Epoch 7 | Loss = 3.1581 | Train Accuracy = 23.25% | Test Accuracy = 22.00%\n",
            "Train Progress: |████████████████████████████████████████| 100.0%\n",
            "Valid Progress: |████████████████████████████████████████| 100.0%\n",
            "Epoch 8 | Loss = 2.2991 | Train Accuracy = 36.50% | Test Accuracy = 28.00%\n",
            "Train Progress: |████████████████████████████████████████| 100.0%\n",
            "Valid Progress: |████████████████████████████████████████| 100.0%\n",
            "Epoch 9 | Loss = nan | Train Accuracy = 17.25% | Test Accuracy = 4.00%\n",
            "Train Progress: |████████████████████████████████████████| 100.0%\n",
            "Valid Progress: |████████████████████████████████████████| 100.0%\n",
            "Epoch 10 | Loss = nan | Train Accuracy = 3.25% | Test Accuracy = 4.00%\n",
            "Train Progress: |████████████████████████████████████████| 100.0%\n",
            "Valid Progress: |████████████████████████████████████████| 100.0%\n",
            "Epoch 11 | Loss = nan | Train Accuracy = 3.25% | Test Accuracy = 4.00%\n",
            "Train Progress: |████████████████████████████████████████| 100.0%\n",
            "Valid Progress: |████████████████████████████████████████| 100.0%\n",
            "Epoch 12 | Loss = nan | Train Accuracy = 3.25% | Test Accuracy = 4.00%\n",
            "Train Progress: |████████████████████████████████████████| 100.0%\n",
            "Valid Progress: |████████████████████████████████████████| 100.0%\n",
            "Epoch 13 | Loss = nan | Train Accuracy = 3.25% | Test Accuracy = 4.00%\n",
            "Train Progress: |████████████████████████████████████████| 100.0%\n",
            "Valid Progress: |████████████████████████████████████████| 100.0%\n",
            "Epoch 14 | Loss = nan | Train Accuracy = 3.25% | Test Accuracy = 4.00%\n",
            "Train Progress: |████████████████████████████████████████| 100.0%\n",
            "Valid Progress: |████████████████████████████████████████| 100.0%\n",
            "Epoch 15 | Loss = nan | Train Accuracy = 3.25% | Test Accuracy = 4.00%\n",
            "Train Progress: |████████████████████████████████████████| 100.0%\n",
            "Valid Progress: |████████████████████████████████████████| 100.0%\n",
            "Epoch 16 | Loss = nan | Train Accuracy = 3.25% | Test Accuracy = 4.00%\n",
            "Train Progress: |████████████████████████████████████████| 100.0%\n",
            "Valid Progress: |████████████████████████████████████████| 100.0%\n",
            "Epoch 17 | Loss = nan | Train Accuracy = 3.25% | Test Accuracy = 4.00%\n",
            "Train Progress: |████████████████████████████████████████| 100.0%\n",
            "Valid Progress: |████████████████████████████████████████| 100.0%\n",
            "Epoch 18 | Loss = nan | Train Accuracy = 3.25% | Test Accuracy = 4.00%\n",
            "Train Progress: |████████████████████████████████████████| 100.0%\n",
            "Valid Progress: |████████████████████████████████████████| 100.0%\n",
            "Epoch 19 | Loss = nan | Train Accuracy = 3.25% | Test Accuracy = 4.00%\n",
            "Train Progress: |████████████████████████████████████████| 100.0%\n",
            "Valid Progress: |████████████████████████████████████████| 100.0%\n",
            "Epoch 20 | Loss = nan | Train Accuracy = 3.25% | Test Accuracy = 4.00%\n",
            "Train Progress: |████████████████████████████████████████| 100.0%\n",
            "Valid Progress: |████████████████████████████████████████| 100.0%\n",
            "Epoch 21 | Loss = nan | Train Accuracy = 3.25% | Test Accuracy = 4.00%\n",
            "Train Progress: |████████████████████████████████████████| 100.0%\n",
            "Valid Progress: |████████████████████████████████████████| 100.0%\n",
            "Epoch 22 | Loss = nan | Train Accuracy = 3.25% | Test Accuracy = 4.00%\n",
            "Train Progress: |████████████████████████████████████████| 100.0%\n",
            "Valid Progress: |████████████████████████████████████████| 100.0%\n",
            "Epoch 23 | Loss = nan | Train Accuracy = 3.25% | Test Accuracy = 4.00%\n",
            "Train Progress: |████████████████████████████████████████| 100.0%\n",
            "Valid Progress: |████████████████████████████████████████| 100.0%\n",
            "Epoch 24 | Loss = nan | Train Accuracy = 3.25% | Test Accuracy = 4.00%\n",
            "Train Progress: |████████████████████████████████████████| 100.0%\n",
            "Valid Progress: |████████████████████████████████████████| 100.0%\n",
            "Epoch 25 | Loss = nan | Train Accuracy = 3.25% | Test Accuracy = 4.00%\n",
            "Train Progress: |████████████████████████████████████████| 100.0%\n",
            "Valid Progress: |████████████████████████████████████████| 100.0%\n",
            "Epoch 26 | Loss = nan | Train Accuracy = 3.25% | Test Accuracy = 4.00%\n",
            "Train Progress: |████████████████████████████████████████| 100.0%\n",
            "Valid Progress: |████████████████████████████████████████| 100.0%\n",
            "Epoch 27 | Loss = nan | Train Accuracy = 3.25% | Test Accuracy = 4.00%\n",
            "Train Progress: |████████████████████████████████████████| 100.0%\n",
            "Valid Progress: |████████████████████████████████████████| 100.0%\n",
            "Epoch 28 | Loss = nan | Train Accuracy = 3.25% | Test Accuracy = 4.00%\n",
            "Train Progress: |████████████████████████████████████████| 100.0%\n",
            "Valid Progress: |████████████████████████████████████████| 100.0%\n",
            "Epoch 29 | Loss = nan | Train Accuracy = 3.25% | Test Accuracy = 4.00%\n",
            "Train Progress: |████████████████████████████████████████| 100.0%\n",
            "Valid Progress: |████████████████████████████████████████| 100.0%\n",
            "Epoch 30 | Loss = nan | Train Accuracy = 3.25% | Test Accuracy = 4.00%\n",
            "Train Progress: |████████████████████████████████████████| 100.0%\n",
            "Valid Progress: |████████████████████████████████████████| 100.0%\n",
            "Epoch 31 | Loss = nan | Train Accuracy = 3.25% | Test Accuracy = 4.00%\n",
            "Train Progress: |████████████████████████████████████████| 100.0%\n",
            "Valid Progress: |████████████████████████████████████████| 100.0%\n",
            "Epoch 32 | Loss = nan | Train Accuracy = 3.25% | Test Accuracy = 4.00%\n",
            "Train Progress: |████████████████████████████████████████| 100.0%\n",
            "Valid Progress: |████████████████████████████████████████| 100.0%\n",
            "Epoch 33 | Loss = nan | Train Accuracy = 3.25% | Test Accuracy = 4.00%\n",
            "Train Progress: |████████████████████████████████████████| 100.0%\n",
            "Valid Progress: |████████████████████████████████████████| 100.0%\n",
            "Epoch 34 | Loss = nan | Train Accuracy = 3.25% | Test Accuracy = 4.00%\n",
            "Train Progress: |████████████████████████████████████████| 100.0%\n",
            "Valid Progress: |████████████████████████████████████████| 100.0%\n",
            "Epoch 35 | Loss = nan | Train Accuracy = 3.25% | Test Accuracy = 4.00%\n",
            "Train Progress: |████████████████████████████████████████| 100.0%\n",
            "Valid Progress: |████████████████████████████████████████| 100.0%\n",
            "Epoch 36 | Loss = nan | Train Accuracy = 3.25% | Test Accuracy = 4.00%\n",
            "Train Progress: |████████████████████████████████████████| 100.0%\n",
            "Valid Progress: |████████████████████████████████████████| 100.0%\n",
            "Epoch 37 | Loss = nan | Train Accuracy = 3.25% | Test Accuracy = 4.00%\n",
            "Train Progress: |████████████████████████████████████████| 100.0%\n",
            "Valid Progress: |████████████████████████████████████████| 100.0%\n",
            "Epoch 38 | Loss = nan | Train Accuracy = 3.25% | Test Accuracy = 4.00%\n",
            "Train Progress: |████████████████████████████████████████| 100.0%\n",
            "Valid Progress: |████████████████████████████████████████| 100.0%\n",
            "Epoch 39 | Loss = nan | Train Accuracy = 3.25% | Test Accuracy = 4.00%\n",
            "Train Progress: |████████████████████████████████████████| 100.0%\n",
            "Valid Progress: |████████████████████████████████████████| 100.0%\n",
            "Epoch 40 | Loss = nan | Train Accuracy = 3.25% | Test Accuracy = 4.00%\n",
            "Train Progress: |████████████████████████████████████████| 100.0%\n"
          ]
        },
        {
          "output_type": "error",
          "ename": "KeyboardInterrupt",
          "evalue": "ignored",
          "traceback": [
            "\u001b[0;31m---------------------------------------------------------------------------\u001b[0m",
            "\u001b[0;31mKeyboardInterrupt\u001b[0m                         Traceback (most recent call last)",
            "\u001b[0;32m<ipython-input-17-699f7b4dc150>\u001b[0m in \u001b[0;36m<module>\u001b[0;34m\u001b[0m\n\u001b[1;32m      2\u001b[0m \u001b[0malexnet\u001b[0m \u001b[0;34m=\u001b[0m \u001b[0malexnet\u001b[0m\u001b[0;34m.\u001b[0m\u001b[0mto\u001b[0m\u001b[0;34m(\u001b[0m\u001b[0mdevice\u001b[0m\u001b[0;34m)\u001b[0m\u001b[0;34m\u001b[0m\u001b[0;34m\u001b[0m\u001b[0m\n\u001b[1;32m      3\u001b[0m \u001b[0mtrain_loader4\u001b[0m\u001b[0;34m,\u001b[0m \u001b[0mvalid_loader4\u001b[0m \u001b[0;34m=\u001b[0m \u001b[0msplit_dataset\u001b[0m\u001b[0;34m(\u001b[0m\u001b[0mdataset\u001b[0m\u001b[0;34m,\u001b[0m \u001b[0;36m500\u001b[0m\u001b[0;34m,\u001b[0m \u001b[0;36m0.8\u001b[0m\u001b[0;34m,\u001b[0m \u001b[0;36m1\u001b[0m\u001b[0;34m)\u001b[0m\u001b[0;34m\u001b[0m\u001b[0;34m\u001b[0m\u001b[0m\n\u001b[0;32m----> 4\u001b[0;31m \u001b[0mtrain_metrics4\u001b[0m\u001b[0;34m,\u001b[0m \u001b[0mvalid_metrics4\u001b[0m \u001b[0;34m=\u001b[0m \u001b[0mtrain_model\u001b[0m\u001b[0;34m(\u001b[0m\u001b[0malexnet\u001b[0m\u001b[0;34m,\u001b[0m \u001b[0mtrain_loader4\u001b[0m\u001b[0;34m,\u001b[0m \u001b[0mvalid_loader4\u001b[0m\u001b[0;34m,\u001b[0m \u001b[0;36m0.01\u001b[0m\u001b[0;34m,\u001b[0m \u001b[0;36m50\u001b[0m\u001b[0;34m)\u001b[0m\u001b[0;34m\u001b[0m\u001b[0;34m\u001b[0m\u001b[0m\n\u001b[0m\u001b[1;32m      5\u001b[0m \u001b[0mplot_metrics\u001b[0m\u001b[0;34m(\u001b[0m\u001b[0mtrain_metrics4\u001b[0m\u001b[0;34m,\u001b[0m \u001b[0mvalid_metrics4\u001b[0m\u001b[0;34m)\u001b[0m\u001b[0;34m\u001b[0m\u001b[0;34m\u001b[0m\u001b[0m\n",
            "\u001b[0;32m<ipython-input-9-a9c73576a040>\u001b[0m in \u001b[0;36mtrain_model\u001b[0;34m(model, train_loader, valid_loader, learning_rate, num_epochs, weight_decay)\u001b[0m\n\u001b[1;32m     14\u001b[0m         \u001b[0;31m# Train and evaluate model\u001b[0m\u001b[0;34m\u001b[0m\u001b[0;34m\u001b[0m\u001b[0;34m\u001b[0m\u001b[0m\n\u001b[1;32m     15\u001b[0m         \u001b[0mtrain_loss\u001b[0m\u001b[0;34m,\u001b[0m \u001b[0mtrain_accuracy\u001b[0m \u001b[0;34m=\u001b[0m \u001b[0mtrain\u001b[0m\u001b[0;34m(\u001b[0m\u001b[0mtrain_loader\u001b[0m\u001b[0;34m,\u001b[0m \u001b[0mmodel\u001b[0m\u001b[0;34m,\u001b[0m \u001b[0mloss_func\u001b[0m\u001b[0;34m,\u001b[0m \u001b[0moptimizer\u001b[0m\u001b[0;34m)\u001b[0m\u001b[0;34m\u001b[0m\u001b[0;34m\u001b[0m\u001b[0m\n\u001b[0;32m---> 16\u001b[0;31m         \u001b[0mvalid_loss\u001b[0m\u001b[0;34m,\u001b[0m \u001b[0mvalid_accuracy\u001b[0m \u001b[0;34m=\u001b[0m \u001b[0mtest\u001b[0m\u001b[0;34m(\u001b[0m\u001b[0mvalid_loader\u001b[0m\u001b[0;34m,\u001b[0m \u001b[0mmodel\u001b[0m\u001b[0;34m,\u001b[0m \u001b[0mloss_func\u001b[0m\u001b[0;34m)\u001b[0m\u001b[0;34m\u001b[0m\u001b[0;34m\u001b[0m\u001b[0m\n\u001b[0m\u001b[1;32m     17\u001b[0m \u001b[0;34m\u001b[0m\u001b[0m\n\u001b[1;32m     18\u001b[0m         \u001b[0;31m# Store epoch metrics\u001b[0m\u001b[0;34m\u001b[0m\u001b[0;34m\u001b[0m\u001b[0;34m\u001b[0m\u001b[0m\n",
            "\u001b[0;32m<ipython-input-8-0bd8b5c3b841>\u001b[0m in \u001b[0;36mtest\u001b[0;34m(data_loader, model, loss_func)\u001b[0m\n\u001b[1;32m     16\u001b[0m         \u001b[0;32mfor\u001b[0m \u001b[0mimages\u001b[0m\u001b[0;34m,\u001b[0m \u001b[0mlabels\u001b[0m \u001b[0;32min\u001b[0m \u001b[0mdata_loader\u001b[0m\u001b[0;34m:\u001b[0m\u001b[0;34m\u001b[0m\u001b[0;34m\u001b[0m\u001b[0m\n\u001b[1;32m     17\u001b[0m             \u001b[0;31m# Transfer images and labels to GPU\u001b[0m\u001b[0;34m\u001b[0m\u001b[0;34m\u001b[0m\u001b[0;34m\u001b[0m\u001b[0m\n\u001b[0;32m---> 18\u001b[0;31m             \u001b[0mimages\u001b[0m\u001b[0;34m,\u001b[0m \u001b[0mlabels\u001b[0m \u001b[0;34m=\u001b[0m \u001b[0mimages\u001b[0m\u001b[0;34m.\u001b[0m\u001b[0mto\u001b[0m\u001b[0;34m(\u001b[0m\u001b[0mdevice\u001b[0m\u001b[0;34m)\u001b[0m\u001b[0;34m,\u001b[0m \u001b[0mlabels\u001b[0m\u001b[0;34m.\u001b[0m\u001b[0mto\u001b[0m\u001b[0;34m(\u001b[0m\u001b[0mdevice\u001b[0m\u001b[0;34m)\u001b[0m\u001b[0;34m\u001b[0m\u001b[0;34m\u001b[0m\u001b[0m\n\u001b[0m\u001b[1;32m     19\u001b[0m             \u001b[0;31m#images = images.view(-1, num_inputs)\u001b[0m\u001b[0;34m\u001b[0m\u001b[0;34m\u001b[0m\u001b[0;34m\u001b[0m\u001b[0m\n\u001b[1;32m     20\u001b[0m \u001b[0;34m\u001b[0m\u001b[0m\n",
            "\u001b[0;31mKeyboardInterrupt\u001b[0m: "
          ]
        }
      ]
    }
  ],
  "metadata": {
    "kernelspec": {
      "display_name": "Python 3.9.5 64-bit",
      "language": "python",
      "name": "python3"
    },
    "language_info": {
      "codemirror_mode": {
        "name": "ipython",
        "version": 3
      },
      "file_extension": ".py",
      "mimetype": "text/x-python",
      "name": "python",
      "nbconvert_exporter": "python",
      "pygments_lexer": "ipython3",
      "version": "3.9.5"
    },
    "orig_nbformat": 4,
    "vscode": {
      "interpreter": {
        "hash": "959ea64129db48a8ec807348f5586b619e10ab98f5ce73f35da71fb5d22946c2"
      }
    },
    "colab": {
      "provenance": []
    },
    "accelerator": "GPU",
    "gpuClass": "standard",
    "widgets": {
      "application/vnd.jupyter.widget-state+json": {
        "8dc2be207bfe4acebfde7c5366eeaf8c": {
          "model_module": "@jupyter-widgets/controls",
          "model_name": "HBoxModel",
          "model_module_version": "1.5.0",
          "state": {
            "_dom_classes": [],
            "_model_module": "@jupyter-widgets/controls",
            "_model_module_version": "1.5.0",
            "_model_name": "HBoxModel",
            "_view_count": null,
            "_view_module": "@jupyter-widgets/controls",
            "_view_module_version": "1.5.0",
            "_view_name": "HBoxView",
            "box_style": "",
            "children": [
              "IPY_MODEL_ba464557852041dbbde224d3f92001f6",
              "IPY_MODEL_80e80df2973342368810c21533b414da",
              "IPY_MODEL_0f22dd468a914c12984d84a2e4eb45c4"
            ],
            "layout": "IPY_MODEL_e78f2aa3151546ce850307a6c9daef0b"
          }
        },
        "ba464557852041dbbde224d3f92001f6": {
          "model_module": "@jupyter-widgets/controls",
          "model_name": "HTMLModel",
          "model_module_version": "1.5.0",
          "state": {
            "_dom_classes": [],
            "_model_module": "@jupyter-widgets/controls",
            "_model_module_version": "1.5.0",
            "_model_name": "HTMLModel",
            "_view_count": null,
            "_view_module": "@jupyter-widgets/controls",
            "_view_module_version": "1.5.0",
            "_view_name": "HTMLView",
            "description": "",
            "description_tooltip": null,
            "layout": "IPY_MODEL_51796159696245c59b06f6e54a34cf1a",
            "placeholder": "​",
            "style": "IPY_MODEL_00e7c69907484853afaa3a6e0b39272d",
            "value": "100%"
          }
        },
        "80e80df2973342368810c21533b414da": {
          "model_module": "@jupyter-widgets/controls",
          "model_name": "FloatProgressModel",
          "model_module_version": "1.5.0",
          "state": {
            "_dom_classes": [],
            "_model_module": "@jupyter-widgets/controls",
            "_model_module_version": "1.5.0",
            "_model_name": "FloatProgressModel",
            "_view_count": null,
            "_view_module": "@jupyter-widgets/controls",
            "_view_module_version": "1.5.0",
            "_view_name": "ProgressView",
            "bar_style": "success",
            "description": "",
            "description_tooltip": null,
            "layout": "IPY_MODEL_f79321d37ce34b04856ab6fa9e40a877",
            "max": 52147035,
            "min": 0,
            "orientation": "horizontal",
            "style": "IPY_MODEL_5b33229fd29f49e69a64c35f1d665312",
            "value": 52147035
          }
        },
        "0f22dd468a914c12984d84a2e4eb45c4": {
          "model_module": "@jupyter-widgets/controls",
          "model_name": "HTMLModel",
          "model_module_version": "1.5.0",
          "state": {
            "_dom_classes": [],
            "_model_module": "@jupyter-widgets/controls",
            "_model_module_version": "1.5.0",
            "_model_name": "HTMLModel",
            "_view_count": null,
            "_view_module": "@jupyter-widgets/controls",
            "_view_module_version": "1.5.0",
            "_view_name": "HTMLView",
            "description": "",
            "description_tooltip": null,
            "layout": "IPY_MODEL_f07f386d1757456db7f5ebd107e597b8",
            "placeholder": "​",
            "style": "IPY_MODEL_ebcb19cf0f02426f88d54994342e4cb3",
            "value": " 49.7M/49.7M [00:00&lt;00:00, 140MB/s]"
          }
        },
        "e78f2aa3151546ce850307a6c9daef0b": {
          "model_module": "@jupyter-widgets/base",
          "model_name": "LayoutModel",
          "model_module_version": "1.2.0",
          "state": {
            "_model_module": "@jupyter-widgets/base",
            "_model_module_version": "1.2.0",
            "_model_name": "LayoutModel",
            "_view_count": null,
            "_view_module": "@jupyter-widgets/base",
            "_view_module_version": "1.2.0",
            "_view_name": "LayoutView",
            "align_content": null,
            "align_items": null,
            "align_self": null,
            "border": null,
            "bottom": null,
            "display": null,
            "flex": null,
            "flex_flow": null,
            "grid_area": null,
            "grid_auto_columns": null,
            "grid_auto_flow": null,
            "grid_auto_rows": null,
            "grid_column": null,
            "grid_gap": null,
            "grid_row": null,
            "grid_template_areas": null,
            "grid_template_columns": null,
            "grid_template_rows": null,
            "height": null,
            "justify_content": null,
            "justify_items": null,
            "left": null,
            "margin": null,
            "max_height": null,
            "max_width": null,
            "min_height": null,
            "min_width": null,
            "object_fit": null,
            "object_position": null,
            "order": null,
            "overflow": null,
            "overflow_x": null,
            "overflow_y": null,
            "padding": null,
            "right": null,
            "top": null,
            "visibility": null,
            "width": null
          }
        },
        "51796159696245c59b06f6e54a34cf1a": {
          "model_module": "@jupyter-widgets/base",
          "model_name": "LayoutModel",
          "model_module_version": "1.2.0",
          "state": {
            "_model_module": "@jupyter-widgets/base",
            "_model_module_version": "1.2.0",
            "_model_name": "LayoutModel",
            "_view_count": null,
            "_view_module": "@jupyter-widgets/base",
            "_view_module_version": "1.2.0",
            "_view_name": "LayoutView",
            "align_content": null,
            "align_items": null,
            "align_self": null,
            "border": null,
            "bottom": null,
            "display": null,
            "flex": null,
            "flex_flow": null,
            "grid_area": null,
            "grid_auto_columns": null,
            "grid_auto_flow": null,
            "grid_auto_rows": null,
            "grid_column": null,
            "grid_gap": null,
            "grid_row": null,
            "grid_template_areas": null,
            "grid_template_columns": null,
            "grid_template_rows": null,
            "height": null,
            "justify_content": null,
            "justify_items": null,
            "left": null,
            "margin": null,
            "max_height": null,
            "max_width": null,
            "min_height": null,
            "min_width": null,
            "object_fit": null,
            "object_position": null,
            "order": null,
            "overflow": null,
            "overflow_x": null,
            "overflow_y": null,
            "padding": null,
            "right": null,
            "top": null,
            "visibility": null,
            "width": null
          }
        },
        "00e7c69907484853afaa3a6e0b39272d": {
          "model_module": "@jupyter-widgets/controls",
          "model_name": "DescriptionStyleModel",
          "model_module_version": "1.5.0",
          "state": {
            "_model_module": "@jupyter-widgets/controls",
            "_model_module_version": "1.5.0",
            "_model_name": "DescriptionStyleModel",
            "_view_count": null,
            "_view_module": "@jupyter-widgets/base",
            "_view_module_version": "1.2.0",
            "_view_name": "StyleView",
            "description_width": ""
          }
        },
        "f79321d37ce34b04856ab6fa9e40a877": {
          "model_module": "@jupyter-widgets/base",
          "model_name": "LayoutModel",
          "model_module_version": "1.2.0",
          "state": {
            "_model_module": "@jupyter-widgets/base",
            "_model_module_version": "1.2.0",
            "_model_name": "LayoutModel",
            "_view_count": null,
            "_view_module": "@jupyter-widgets/base",
            "_view_module_version": "1.2.0",
            "_view_name": "LayoutView",
            "align_content": null,
            "align_items": null,
            "align_self": null,
            "border": null,
            "bottom": null,
            "display": null,
            "flex": null,
            "flex_flow": null,
            "grid_area": null,
            "grid_auto_columns": null,
            "grid_auto_flow": null,
            "grid_auto_rows": null,
            "grid_column": null,
            "grid_gap": null,
            "grid_row": null,
            "grid_template_areas": null,
            "grid_template_columns": null,
            "grid_template_rows": null,
            "height": null,
            "justify_content": null,
            "justify_items": null,
            "left": null,
            "margin": null,
            "max_height": null,
            "max_width": null,
            "min_height": null,
            "min_width": null,
            "object_fit": null,
            "object_position": null,
            "order": null,
            "overflow": null,
            "overflow_x": null,
            "overflow_y": null,
            "padding": null,
            "right": null,
            "top": null,
            "visibility": null,
            "width": null
          }
        },
        "5b33229fd29f49e69a64c35f1d665312": {
          "model_module": "@jupyter-widgets/controls",
          "model_name": "ProgressStyleModel",
          "model_module_version": "1.5.0",
          "state": {
            "_model_module": "@jupyter-widgets/controls",
            "_model_module_version": "1.5.0",
            "_model_name": "ProgressStyleModel",
            "_view_count": null,
            "_view_module": "@jupyter-widgets/base",
            "_view_module_version": "1.2.0",
            "_view_name": "StyleView",
            "bar_color": null,
            "description_width": ""
          }
        },
        "f07f386d1757456db7f5ebd107e597b8": {
          "model_module": "@jupyter-widgets/base",
          "model_name": "LayoutModel",
          "model_module_version": "1.2.0",
          "state": {
            "_model_module": "@jupyter-widgets/base",
            "_model_module_version": "1.2.0",
            "_model_name": "LayoutModel",
            "_view_count": null,
            "_view_module": "@jupyter-widgets/base",
            "_view_module_version": "1.2.0",
            "_view_name": "LayoutView",
            "align_content": null,
            "align_items": null,
            "align_self": null,
            "border": null,
            "bottom": null,
            "display": null,
            "flex": null,
            "flex_flow": null,
            "grid_area": null,
            "grid_auto_columns": null,
            "grid_auto_flow": null,
            "grid_auto_rows": null,
            "grid_column": null,
            "grid_gap": null,
            "grid_row": null,
            "grid_template_areas": null,
            "grid_template_columns": null,
            "grid_template_rows": null,
            "height": null,
            "justify_content": null,
            "justify_items": null,
            "left": null,
            "margin": null,
            "max_height": null,
            "max_width": null,
            "min_height": null,
            "min_width": null,
            "object_fit": null,
            "object_position": null,
            "order": null,
            "overflow": null,
            "overflow_x": null,
            "overflow_y": null,
            "padding": null,
            "right": null,
            "top": null,
            "visibility": null,
            "width": null
          }
        },
        "ebcb19cf0f02426f88d54994342e4cb3": {
          "model_module": "@jupyter-widgets/controls",
          "model_name": "DescriptionStyleModel",
          "model_module_version": "1.5.0",
          "state": {
            "_model_module": "@jupyter-widgets/controls",
            "_model_module_version": "1.5.0",
            "_model_name": "DescriptionStyleModel",
            "_view_count": null,
            "_view_module": "@jupyter-widgets/base",
            "_view_module_version": "1.2.0",
            "_view_name": "StyleView",
            "description_width": ""
          }
        }
      }
    }
  },
  "nbformat": 4,
  "nbformat_minor": 0
}