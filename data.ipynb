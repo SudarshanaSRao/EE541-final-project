{
 "cells": [
  {
   "cell_type": "markdown",
   "metadata": {},
   "source": [
    "### Load Dependencies"
   ]
  },
  {
   "cell_type": "code",
   "execution_count": null,
   "metadata": {},
   "outputs": [],
   "source": [
    "%pip install opendatasets"
   ]
  },
  {
   "cell_type": "markdown",
   "metadata": {},
   "source": [
    "### Imports"
   ]
  },
  {
   "cell_type": "code",
   "execution_count": null,
   "metadata": {},
   "outputs": [],
   "source": [
    "import opendatasets as od\n",
    "import os\n",
    "import cv2\n",
    "import random as rand\n",
    "from utils import ProgressBar"
   ]
  },
  {
   "cell_type": "markdown",
   "metadata": {},
   "source": [
    "### Load Dataset"
   ]
  },
  {
   "cell_type": "code",
   "execution_count": null,
   "metadata": {},
   "outputs": [],
   "source": [
    "# Constants\n",
    "TEST_DATA_DIR = 'asl-alphabet/asl_alphabet_test/asl_alphabet_test'\n",
    "TRAIN_DATA_DIR = 'asl-alphabet/asl_alphabet_train/asl_alphabet_train'"
   ]
  },
  {
   "cell_type": "code",
   "execution_count": null,
   "metadata": {},
   "outputs": [],
   "source": [
    "# Download Kaggle dataset (Kaggle username and key is required)\n",
    "# {\"username\":\"christopherconroy\",\"key\":\"1915e76943ae798bc236fb7c2de6d28d\"}\n",
    "od.download('https://www.kaggle.com/datasets/grassknoted/asl-alphabet')"
   ]
  },
  {
   "cell_type": "code",
   "execution_count": null,
   "metadata": {},
   "outputs": [],
   "source": [
    "def load_train_dataset(data_dir, num_samples, seed=None):\n",
    "    # Seed random number generator\n",
    "    if seed != None:\n",
    "        rand.seed(seed)\n",
    "\n",
    "    # Initialize image and label lists\n",
    "    images, labels = [], []\n",
    "\n",
    "    # Initialize directories and progress bar\n",
    "    dir_list = os.listdir(data_dir)\n",
    "    progress = ProgressBar(len(dir_list))\n",
    "\n",
    "    # Load data\n",
    "    print('Loading training dataset:')\n",
    "    for class_dir in dir_list:\n",
    "        # Get files in directory and generate sample indices\n",
    "        files = os.listdir(os.path.join(data_dir, class_dir))\n",
    "        samples = rand.sample(range(0, len(files)), num_samples)\n",
    "\n",
    "        for i in samples:\n",
    "            # Load image file and convert to RGB\n",
    "            image = cv2.imread(os.path.join(data_dir, class_dir, files[i]))\n",
    "            image = cv2.cvtColor(image, cv2.COLOR_BGR2RGB) \n",
    "\n",
    "            # Store image and label\n",
    "            images.append(image)\n",
    "            labels.append(class_dir)\n",
    "\n",
    "        # Update progress bar\n",
    "        progress.step()\n",
    "\n",
    "    # Return images and labels\n",
    "    return images, labels"
   ]
  },
  {
   "cell_type": "code",
   "execution_count": null,
   "metadata": {},
   "outputs": [],
   "source": [
    "x, y = load_train_dataset(TRAIN_DATA_DIR, 30, 0)"
   ]
  }
 ],
 "metadata": {
  "kernelspec": {
   "display_name": "Python 3.8.13 ('ee541')",
   "language": "python",
   "name": "python3"
  },
  "language_info": {
   "codemirror_mode": {
    "name": "ipython",
    "version": 3
   },
   "file_extension": ".py",
   "mimetype": "text/x-python",
   "name": "python",
   "nbconvert_exporter": "python",
   "pygments_lexer": "ipython3",
   "version": "3.8.13"
  },
  "orig_nbformat": 4,
  "vscode": {
   "interpreter": {
    "hash": "5c4c54ecf42830e23b91be3e35800f11de85c5f48dbf4f514b6a1ba40b2b37fe"
   }
  }
 },
 "nbformat": 4,
 "nbformat_minor": 2
}
