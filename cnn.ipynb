{
 "cells": [
  {
   "cell_type": "markdown",
   "metadata": {},
   "source": [
    "# CNN Model\n",
    "\n",
    "This model is an extension of the Base CNN model to incorporate data preprocessing, augmentation and regularization."
   ]
  },
  {
   "cell_type": "markdown",
   "metadata": {},
   "source": [
    "### Imports"
   ]
  },
  {
   "cell_type": "code",
   "execution_count": null,
   "metadata": {},
   "outputs": [],
   "source": [
    "import os\n",
    "import numpy as np\n",
    "import torch\n",
    "import torch.nn as nn\n",
    "import torch.nn.functional as F\n",
    "import torchvision\n",
    "from torchvision import transforms\n",
    "from utils import split_dataset, train_model, plot_metrics, save_model, load_model"
   ]
  },
  {
   "cell_type": "markdown",
   "metadata": {},
   "source": [
    "### Initialize Dataset"
   ]
  },
  {
   "cell_type": "code",
   "execution_count": null,
   "metadata": {},
   "outputs": [],
   "source": [
    "# Constants\n",
    "TRAIN_DATA_DIR = 'asl-alphabet/asl_alphabet_train/asl_alphabet_train'\n",
    "SAVE_MODEL_FILE = 'models/cnn.pt'\n",
    "SEED = 0\n",
    "NUM_SAMPLES = 1000\n",
    "TRAIN_SPLIT = 0.80\n",
    "BATCH_SIZE = 100\n",
    "LEARN_RATE = 5e-4\n",
    "EPOCHS = 10"
   ]
  },
  {
   "cell_type": "code",
   "execution_count": null,
   "metadata": {},
   "outputs": [],
   "source": [
    "# Seed PyTorch\n",
    "torch.manual_seed(SEED)\n",
    "\n",
    "# Image transforms\n",
    "transforms = transforms.Compose([\n",
    "    transforms.ToTensor(),\n",
    "    transforms.Resize((100, 100))\n",
    "])\n",
    "\n",
    "# Initialize dataset\n",
    "dataset = torchvision.datasets.ImageFolder(\n",
    "    root=TRAIN_DATA_DIR,\n",
    "    transform=transforms\n",
    ")\n",
    "\n",
    "# Split dataset into training and validation sets\n",
    "train_loader, valid_loader = split_dataset(dataset, NUM_SAMPLES, TRAIN_SPLIT, BATCH_SIZE, SEED)\n",
    "\n",
    "# Check for CUDA GPU\n",
    "device = torch.device('cuda' if torch.cuda.is_available() else 'cpu')\n",
    "print(f'Using {device} device')"
   ]
  },
  {
   "cell_type": "code",
   "execution_count": null,
   "metadata": {},
   "outputs": [],
   "source": [
    "# Convolutional neural network\n",
    "class CNN(nn.Module):\n",
    "    def __init__(self):\n",
    "        super(CNN, self).__init__()\n",
    "\n",
    "        # Convolutional layer 1\n",
    "        self.conv1 = nn.Conv2d(3, 32, 5, padding=2)\n",
    "        self.pool1 = nn.MaxPool2d(2, 2)\n",
    "        # self.dropout1 = nn.Dropout2d(0.2)\n",
    "\n",
    "        # Convolutional layer 2\n",
    "        self.conv2 = nn.Conv2d(32, 32, 3, padding=1)\n",
    "        self.pool2 = nn.MaxPool2d(2, 2)\n",
    "        # self.dropout2 = nn.Dropout2d(0.2)\n",
    "\n",
    "        # Fully connected layer 1\n",
    "        self.fc1 = nn.Linear(32 * 25**2, 128)\n",
    "        # self.dropout3 = nn.Dropout2d(0.2)\n",
    "\n",
    "        # Fully connected layer 2\n",
    "        self.fc2 = nn.Linear(128, 64)\n",
    "        # self.dropout4 = nn.Dropout2d(0.2)\n",
    "\n",
    "        # Output layer\n",
    "        self.fc3 = nn.Linear(64, 29)\n",
    "\n",
    "    def forward(self, x):\n",
    "        x = self.pool1(F.relu(self.conv1(x)))\n",
    "        x = self.pool2(F.relu(self.conv2(x)))\n",
    "        x = torch.flatten(x, 1)\n",
    "        x = F.relu(self.fc1(x))\n",
    "        x = F.relu(self.fc2(x))\n",
    "        x = self.fc3(x)\n",
    "        return x\n",
    "\n",
    "# Instantiate model and move to GPU if available\n",
    "model = CNN()\n",
    "model = model.to(device)\n",
    "\n",
    "# Print model details\n",
    "from torchsummary import summary\n",
    "summary(model, input_size=(3, 100, 100))"
   ]
  },
  {
   "cell_type": "markdown",
   "metadata": {},
   "source": [
    "### Training"
   ]
  },
  {
   "cell_type": "code",
   "execution_count": null,
   "metadata": {},
   "outputs": [],
   "source": [
    "metrics = train_model(model, train_loader, valid_loader, LEARN_RATE, EPOCHS, device, conv=True)"
   ]
  },
  {
   "cell_type": "code",
   "execution_count": null,
   "metadata": {},
   "outputs": [],
   "source": [
    "save_model(SAVE_MODEL_FILE, model, metrics)"
   ]
  },
  {
   "cell_type": "markdown",
   "metadata": {},
   "source": [
    "### Evaluation"
   ]
  },
  {
   "cell_type": "code",
   "execution_count": null,
   "metadata": {},
   "outputs": [],
   "source": [
    "# metrics = load_model(SAVE_MODEL_FILE, model)"
   ]
  },
  {
   "cell_type": "code",
   "execution_count": null,
   "metadata": {},
   "outputs": [],
   "source": [
    "plot_metrics(metrics)"
   ]
  }
 ],
 "metadata": {
  "kernelspec": {
   "display_name": "Python 3.8.13 ('ee541')",
   "language": "python",
   "name": "python3"
  },
  "language_info": {
   "codemirror_mode": {
    "name": "ipython",
    "version": 3
   },
   "file_extension": ".py",
   "mimetype": "text/x-python",
   "name": "python",
   "nbconvert_exporter": "python",
   "pygments_lexer": "ipython3",
   "version": "3.8.13"
  },
  "orig_nbformat": 4,
  "vscode": {
   "interpreter": {
    "hash": "5c4c54ecf42830e23b91be3e35800f11de85c5f48dbf4f514b6a1ba40b2b37fe"
   }
  }
 },
 "nbformat": 4,
 "nbformat_minor": 2
}
