{
 "cells": [
  {
   "cell_type": "markdown",
   "metadata": {},
   "source": [
    "# GoogLeNet Model - Transfer Learning"
   ]
  },
  {
   "cell_type": "markdown",
   "metadata": {},
   "source": [
    "### Imports"
   ]
  },
  {
   "cell_type": "code",
   "execution_count": null,
   "metadata": {},
   "outputs": [],
   "source": [
    "import torch\n",
    "import torch.nn.functional as F\n",
    "import torchvision\n",
    "from torchvision import transforms as T\n",
    "from torchvision.models import googlenet, GoogLeNet_Weights\n",
    "from utils import data, eval, train"
   ]
  },
  {
   "cell_type": "markdown",
   "metadata": {},
   "source": [
    "### Initialize Dataset"
   ]
  },
  {
   "cell_type": "code",
   "execution_count": null,
   "metadata": {},
   "outputs": [],
   "source": [
    "# Constants\n",
    "DATA_DIR = 'asl-alphabet/asl_alphabet_train/asl_alphabet_train'\n",
    "SAVE_MODEL_FILE = 'models/cnn.pt'\n",
    "SEED = 0\n",
    "NUM_SAMPLES = 1000\n",
    "DATASET_SPLIT = [0.7, 0.15, 0.15] # Train / Valid / Test Split\n",
    "BATCH_SIZE = 100\n",
    "LEARN_RATE = 5e-4\n",
    "EPOCHS = 10\n",
    "IMAGE_SIZE = (100, 100)\n",
    "WEIGHT_DECAY = 1e-3"
   ]
  },
  {
   "cell_type": "code",
   "execution_count": null,
   "metadata": {},
   "outputs": [],
   "source": [
    "# Seed PyTorch\n",
    "torch.manual_seed(SEED)\n",
    "\n",
    "# Image transforms\n",
    "trans = T.Compose([\n",
    "    T.ToTensor(),\n",
    "    T.Resize(IMAGE_SIZE),\n",
    "    T.Normalize((0.5190, 0.4992, 0.5140), \n",
    "                (0.2244, 0.2523, 0.2616))\n",
    "])\n",
    "\n",
    "# Initialize datasets\n",
    "dataset = torchvision.datasets.ImageFolder(\n",
    "    root=DATA_DIR,\n",
    "    transform=trans\n",
    ")\n",
    "\n",
    "# Split dataset into training, validation and test sets\n",
    "train_loader, valid_loader, test_loader = data.split_dataset(dataset, NUM_SAMPLES, DATASET_SPLIT, BATCH_SIZE, SEED)\n",
    "\n",
    "# Check for CUDA GPU\n",
    "device = torch.device('cuda' if torch.cuda.is_available() else 'cpu')\n",
    "print(f'Using {device} device')"
   ]
  },
  {
   "cell_type": "markdown",
   "metadata": {},
   "source": [
    "### Model"
   ]
  },
  {
   "cell_type": "code",
   "execution_count": null,
   "metadata": {},
   "outputs": [],
   "source": [
    "# Instantiate model and move to GPU if available\n",
    "model = torchvision.models.googlenet(weights=GoogLeNet_Weights.IMAGENET1K_V1)\n",
    "model = model.to(device)"
   ]
  },
  {
   "cell_type": "markdown",
   "metadata": {},
   "source": [
    "### Training"
   ]
  },
  {
   "cell_type": "code",
   "execution_count": null,
   "metadata": {},
   "outputs": [],
   "source": [
    "# Train model and save model weights and training metrics\n",
    "metrics = train.train_model(model, train_loader, valid_loader, LEARN_RATE, EPOCHS, device, WEIGHT_DECAY, conv=True)\n",
    "data.save_model(SAVE_MODEL_FILE, model, metrics)"
   ]
  },
  {
   "cell_type": "markdown",
   "metadata": {},
   "source": [
    "### Evaluation"
   ]
  },
  {
   "cell_type": "code",
   "execution_count": null,
   "metadata": {},
   "outputs": [],
   "source": [
    "# Load model and show trainig and evaluation metrics\n",
    "metrics = data.load_model(SAVE_MODEL_FILE, model)\n",
    "eval.plot_metrics(metrics)"
   ]
  },
  {
   "cell_type": "code",
   "execution_count": null,
   "metadata": {},
   "outputs": [],
   "source": [
    "eval_metrics = eval.eval_model(model, test_loader, device, conv=True)"
   ]
  }
 ],
 "metadata": {
  "kernelspec": {
   "display_name": "Python 3.8.13 ('ee541')",
   "language": "python",
   "name": "python3"
  },
  "language_info": {
   "codemirror_mode": {
    "name": "ipython",
    "version": 3
   },
   "file_extension": ".py",
   "mimetype": "text/x-python",
   "name": "python",
   "nbconvert_exporter": "python",
   "pygments_lexer": "ipython3",
   "version": "3.8.13"
  },
  "orig_nbformat": 4,
  "vscode": {
   "interpreter": {
    "hash": "5c4c54ecf42830e23b91be3e35800f11de85c5f48dbf4f514b6a1ba40b2b37fe"
   }
  }
 },
 "nbformat": 4,
 "nbformat_minor": 2
}
